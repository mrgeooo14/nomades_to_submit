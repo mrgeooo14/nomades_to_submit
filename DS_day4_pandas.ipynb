{
 "cells": [
  {
   "cell_type": "markdown",
   "metadata": {},
   "source": [
    "Olympic Dataset day \n",
    "\n",
    "Un ensemble de données sur les biographies des athlètes olympiques au cours des 100 dernières années."
   ]
  },
  {
   "cell_type": "code",
   "execution_count": null,
   "metadata": {},
   "outputs": [],
   "source": [
    "import numpy as np\n",
    "import matplotlib.pyplot as plt\n",
    "import pandas as pd\n",
    "\n",
    "xl = pd.ExcelFile('./data/olympics-data.xlsx')\n",
    "bios_df = pd.read_excel(xl, sheet_name='bios')\n",
    "bios_df"
   ]
  },
  {
   "cell_type": "markdown",
   "metadata": {},
   "source": [
    "Chaque fois que nous travaillons avec un nouvel ensemble de données, nous devons en avoir une première idée en utilisant head(), info() et describe()."
   ]
  },
  {
   "cell_type": "code",
   "execution_count": null,
   "metadata": {},
   "outputs": [],
   "source": [
    "bios_df.head(10)"
   ]
  },
  {
   "cell_type": "code",
   "execution_count": null,
   "metadata": {},
   "outputs": [],
   "source": [
    "bios_df.info()"
   ]
  },
  {
   "cell_type": "code",
   "execution_count": null,
   "metadata": {},
   "outputs": [],
   "source": [
    "bios_df.describe()"
   ]
  },
  {
   "cell_type": "markdown",
   "metadata": {},
   "source": [
    "##### Traitement de données manquantes\n",
    "\n",
    "Les données manquantes (numpy.nan) sont un problème récurrent dans l'analyse des données. Elles peuvent provenir de diverses raisons telles que des erreurs de saisie, des mesures non enregistrées ou des informations non fournies. \n",
    "\n",
    "1) Detection\n",
    "\n",
    "Avant de commencer l'analyse d'un ensemble de données, il convient de s'occuper en priorité des valeurs manquantes."
   ]
  },
  {
   "cell_type": "code",
   "execution_count": null,
   "metadata": {},
   "outputs": [],
   "source": [
    "bios_df.isna().sum()"
   ]
  },
  {
   "cell_type": "markdown",
   "metadata": {},
   "source": [
    "Suppression des valeurs manquantes"
   ]
  },
  {
   "cell_type": "code",
   "execution_count": null,
   "metadata": {},
   "outputs": [],
   "source": [
    "df = pd.DataFrame([[np.nan, 1, 2], [1, 2, np.nan], [1, 2, 3]], columns=['A', 'B', 'C'])\n",
    "df"
   ]
  },
  {
   "cell_type": "code",
   "execution_count": null,
   "metadata": {},
   "outputs": [],
   "source": [
    "#### en utilisant de supression et des axes differentes\n",
    "df.dropna()"
   ]
  },
  {
   "cell_type": "markdown",
   "metadata": {},
   "source": [
    "Imputation des valeurs manquantes avec **fillna()**"
   ]
  },
  {
   "cell_type": "code",
   "execution_count": null,
   "metadata": {},
   "outputs": [],
   "source": [
    "df.fillna(3, inplace = True)"
   ]
  },
  {
   "cell_type": "code",
   "execution_count": null,
   "metadata": {},
   "outputs": [],
   "source": [
    "df"
   ]
  },
  {
   "cell_type": "markdown",
   "metadata": {},
   "source": [
    "La méthode **interpolate()** de pandas est utilisée pour combler les valeurs manquantes dans une série ou un DataFrame en effectuant une interpolation. Elle permet d'estimer les valeurs intermédiaires en fonction des données existantes"
   ]
  },
  {
   "cell_type": "code",
   "execution_count": null,
   "metadata": {},
   "outputs": [],
   "source": [
    "df.interpolate(method = 'linear')"
   ]
  },
  {
   "cell_type": "code",
   "execution_count": null,
   "metadata": {},
   "outputs": [],
   "source": [
    "bios_df.head(5)"
   ]
  },
  {
   "cell_type": "code",
   "execution_count": null,
   "metadata": {},
   "outputs": [],
   "source": [
    "#### Traitement des valeurs manquantes dans notre ensemble de données\n",
    "bios_df['died_date'].fillna('Still Alive', inplace = True)"
   ]
  },
  {
   "cell_type": "code",
   "execution_count": 23,
   "metadata": {},
   "outputs": [
    {
     "data": {
      "text/html": [
       "<div>\n",
       "<style scoped>\n",
       "    .dataframe tbody tr th:only-of-type {\n",
       "        vertical-align: middle;\n",
       "    }\n",
       "\n",
       "    .dataframe tbody tr th {\n",
       "        vertical-align: top;\n",
       "    }\n",
       "\n",
       "    .dataframe thead th {\n",
       "        text-align: right;\n",
       "    }\n",
       "</style>\n",
       "<table border=\"1\" class=\"dataframe\">\n",
       "  <thead>\n",
       "    <tr style=\"text-align: right;\">\n",
       "      <th></th>\n",
       "      <th>athlete_id</th>\n",
       "      <th>name</th>\n",
       "      <th>born_date</th>\n",
       "      <th>born_city</th>\n",
       "      <th>born_region</th>\n",
       "      <th>born_country</th>\n",
       "      <th>NOC</th>\n",
       "      <th>height_cm</th>\n",
       "      <th>weight_kg</th>\n",
       "      <th>died_date</th>\n",
       "    </tr>\n",
       "  </thead>\n",
       "  <tbody>\n",
       "    <tr>\n",
       "      <th>0</th>\n",
       "      <td>1</td>\n",
       "      <td>Jean-François Blanchy</td>\n",
       "      <td>1886-12-12</td>\n",
       "      <td>Bordeaux</td>\n",
       "      <td>Gironde</td>\n",
       "      <td>FRA</td>\n",
       "      <td>France</td>\n",
       "      <td>NaN</td>\n",
       "      <td>NaN</td>\n",
       "      <td>1960-10-02</td>\n",
       "    </tr>\n",
       "    <tr>\n",
       "      <th>1</th>\n",
       "      <td>2</td>\n",
       "      <td>Arnaud Boetsch</td>\n",
       "      <td>1969-04-01</td>\n",
       "      <td>Meulan</td>\n",
       "      <td>Yvelines</td>\n",
       "      <td>FRA</td>\n",
       "      <td>France</td>\n",
       "      <td>183.0</td>\n",
       "      <td>76.0</td>\n",
       "      <td>Still Alive</td>\n",
       "    </tr>\n",
       "    <tr>\n",
       "      <th>2</th>\n",
       "      <td>3</td>\n",
       "      <td>Jean Borotra</td>\n",
       "      <td>1898-08-13</td>\n",
       "      <td>Biarritz</td>\n",
       "      <td>Pyrénées-Atlantiques</td>\n",
       "      <td>FRA</td>\n",
       "      <td>France</td>\n",
       "      <td>183.0</td>\n",
       "      <td>76.0</td>\n",
       "      <td>1994-07-17</td>\n",
       "    </tr>\n",
       "    <tr>\n",
       "      <th>3</th>\n",
       "      <td>4</td>\n",
       "      <td>Jacques Brugnon</td>\n",
       "      <td>1895-05-11</td>\n",
       "      <td>Paris VIIIe</td>\n",
       "      <td>Paris</td>\n",
       "      <td>FRA</td>\n",
       "      <td>France</td>\n",
       "      <td>168.0</td>\n",
       "      <td>64.0</td>\n",
       "      <td>1978-03-20</td>\n",
       "    </tr>\n",
       "    <tr>\n",
       "      <th>4</th>\n",
       "      <td>5</td>\n",
       "      <td>Albert Canet</td>\n",
       "      <td>1878-04-17</td>\n",
       "      <td>Wandsworth</td>\n",
       "      <td>England</td>\n",
       "      <td>GBR</td>\n",
       "      <td>France</td>\n",
       "      <td>NaN</td>\n",
       "      <td>NaN</td>\n",
       "      <td>1930-07-25</td>\n",
       "    </tr>\n",
       "    <tr>\n",
       "      <th>...</th>\n",
       "      <td>...</td>\n",
       "      <td>...</td>\n",
       "      <td>...</td>\n",
       "      <td>...</td>\n",
       "      <td>...</td>\n",
       "      <td>...</td>\n",
       "      <td>...</td>\n",
       "      <td>...</td>\n",
       "      <td>...</td>\n",
       "      <td>...</td>\n",
       "    </tr>\n",
       "    <tr>\n",
       "      <th>145495</th>\n",
       "      <td>149222</td>\n",
       "      <td>Polina Luchnikova</td>\n",
       "      <td>2002-01-30</td>\n",
       "      <td>Serov</td>\n",
       "      <td>Sverdlovsk</td>\n",
       "      <td>RUS</td>\n",
       "      <td>ROC</td>\n",
       "      <td>167.0</td>\n",
       "      <td>61.0</td>\n",
       "      <td>Still Alive</td>\n",
       "    </tr>\n",
       "    <tr>\n",
       "      <th>145496</th>\n",
       "      <td>149223</td>\n",
       "      <td>Valeriya Merkusheva</td>\n",
       "      <td>1999-09-20</td>\n",
       "      <td>Moskva (Moscow)</td>\n",
       "      <td>Moskva</td>\n",
       "      <td>RUS</td>\n",
       "      <td>ROC</td>\n",
       "      <td>168.0</td>\n",
       "      <td>65.0</td>\n",
       "      <td>Still Alive</td>\n",
       "    </tr>\n",
       "    <tr>\n",
       "      <th>145497</th>\n",
       "      <td>149224</td>\n",
       "      <td>Yuliya Smirnova</td>\n",
       "      <td>1998-05-08</td>\n",
       "      <td>Kotlas</td>\n",
       "      <td>Arkhangelsk</td>\n",
       "      <td>RUS</td>\n",
       "      <td>ROC</td>\n",
       "      <td>163.0</td>\n",
       "      <td>55.0</td>\n",
       "      <td>Still Alive</td>\n",
       "    </tr>\n",
       "    <tr>\n",
       "      <th>145498</th>\n",
       "      <td>149225</td>\n",
       "      <td>André Foussard</td>\n",
       "      <td>1899-05-19</td>\n",
       "      <td>Niort</td>\n",
       "      <td>Deux-Sèvres</td>\n",
       "      <td>FRA</td>\n",
       "      <td>France</td>\n",
       "      <td>166.0</td>\n",
       "      <td>NaN</td>\n",
       "      <td>1986-03-18</td>\n",
       "    </tr>\n",
       "    <tr>\n",
       "      <th>145499</th>\n",
       "      <td>149814</td>\n",
       "      <td>Bill Phillips</td>\n",
       "      <td>1913-07-15</td>\n",
       "      <td>Dulwich Hill</td>\n",
       "      <td>New South Wales</td>\n",
       "      <td>AUS</td>\n",
       "      <td>Australia</td>\n",
       "      <td>NaN</td>\n",
       "      <td>NaN</td>\n",
       "      <td>2003-10-20</td>\n",
       "    </tr>\n",
       "  </tbody>\n",
       "</table>\n",
       "<p>145500 rows × 10 columns</p>\n",
       "</div>"
      ],
      "text/plain": [
       "        athlete_id                   name   born_date        born_city  \\\n",
       "0                1  Jean-François Blanchy  1886-12-12         Bordeaux   \n",
       "1                2         Arnaud Boetsch  1969-04-01           Meulan   \n",
       "2                3           Jean Borotra  1898-08-13         Biarritz   \n",
       "3                4        Jacques Brugnon  1895-05-11      Paris VIIIe   \n",
       "4                5           Albert Canet  1878-04-17       Wandsworth   \n",
       "...            ...                    ...         ...              ...   \n",
       "145495      149222      Polina Luchnikova  2002-01-30            Serov   \n",
       "145496      149223    Valeriya Merkusheva  1999-09-20  Moskva (Moscow)   \n",
       "145497      149224        Yuliya Smirnova  1998-05-08           Kotlas   \n",
       "145498      149225         André Foussard  1899-05-19            Niort   \n",
       "145499      149814          Bill Phillips  1913-07-15     Dulwich Hill   \n",
       "\n",
       "                 born_region born_country        NOC  height_cm  weight_kg  \\\n",
       "0                    Gironde          FRA     France        NaN        NaN   \n",
       "1                   Yvelines          FRA     France      183.0       76.0   \n",
       "2       Pyrénées-Atlantiques          FRA     France      183.0       76.0   \n",
       "3                      Paris          FRA     France      168.0       64.0   \n",
       "4                    England          GBR     France        NaN        NaN   \n",
       "...                      ...          ...        ...        ...        ...   \n",
       "145495            Sverdlovsk          RUS        ROC      167.0       61.0   \n",
       "145496                Moskva          RUS        ROC      168.0       65.0   \n",
       "145497           Arkhangelsk          RUS        ROC      163.0       55.0   \n",
       "145498           Deux-Sèvres          FRA     France      166.0        NaN   \n",
       "145499       New South Wales          AUS  Australia        NaN        NaN   \n",
       "\n",
       "          died_date  \n",
       "0        1960-10-02  \n",
       "1       Still Alive  \n",
       "2        1994-07-17  \n",
       "3        1978-03-20  \n",
       "4        1930-07-25  \n",
       "...             ...  \n",
       "145495  Still Alive  \n",
       "145496  Still Alive  \n",
       "145497  Still Alive  \n",
       "145498   1986-03-18  \n",
       "145499   2003-10-20  \n",
       "\n",
       "[145500 rows x 10 columns]"
      ]
     },
     "execution_count": 23,
     "metadata": {},
     "output_type": "execute_result"
    }
   ],
   "source": [
    "bios_df"
   ]
  },
  {
   "cell_type": "code",
   "execution_count": 25,
   "metadata": {},
   "outputs": [
    {
     "data": {
      "text/plain": [
       "athlete_id          0\n",
       "name                0\n",
       "born_date        1807\n",
       "born_city       34592\n",
       "born_region     34592\n",
       "born_country    34592\n",
       "NOC                 1\n",
       "height_cm       38849\n",
       "weight_kg       43430\n",
       "died_date           0\n",
       "dtype: int64"
      ]
     },
     "execution_count": 25,
     "metadata": {},
     "output_type": "execute_result"
    }
   ],
   "source": [
    "bios_df.isna().sum()"
   ]
  },
  {
   "cell_type": "markdown",
   "metadata": {},
   "source": [
    "Exercise\n",
    "\n",
    "En utilisant les méthodes apprises ci-dessus, complétez les valeurs manquantes pour les colonnes poids et taille. "
   ]
  },
  {
   "cell_type": "code",
   "execution_count": null,
   "metadata": {},
   "outputs": [],
   "source": []
  },
  {
   "cell_type": "markdown",
   "metadata": {},
   "source": [
    "##### Les valeurs textuelles dans Pandas :\n",
    "Pandas permet plusieurs opérations pour rechercher, filtrer et manipuler des colonnes contenant des chaînes de caractères (str).\n",
    "\n",
    "**contains()** : Filtrer les valeurs contenant un texte spécifique\n",
    "Permet de rechercher partout dans la chaîne."
   ]
  },
  {
   "cell_type": "code",
   "execution_count": null,
   "metadata": {},
   "outputs": [],
   "source": [
    "#### filtrer toutes les valeurs de la colonne « born_city » si elles contiennent l'expression « Gen ».\n",
    "bios_df.loc[bios_df['born_city'].str.contains('Gen', na=False)]"
   ]
  },
  {
   "cell_type": "markdown",
   "metadata": {},
   "source": [
    "**endswith()** : Filtrer les valeurs qui se terminent par un certain texte"
   ]
  },
  {
   "cell_type": "code",
   "execution_count": null,
   "metadata": {},
   "outputs": [],
   "source": [
    "bios_df.loc[bios_df['name'].str.endswith('ov', na=False)]"
   ]
  },
  {
   "cell_type": "markdown",
   "metadata": {},
   "source": [
    "**startswith()** : Filtrer les valeurs qui commencent par un certain texte\n",
    "Permet de sélectionner uniquement les valeurs d’une colonne qui commencent par un préfixe spécifique."
   ]
  },
  {
   "cell_type": "code",
   "execution_count": 28,
   "metadata": {},
   "outputs": [
    {
     "data": {
      "text/html": [
       "<div>\n",
       "<style scoped>\n",
       "    .dataframe tbody tr th:only-of-type {\n",
       "        vertical-align: middle;\n",
       "    }\n",
       "\n",
       "    .dataframe tbody tr th {\n",
       "        vertical-align: top;\n",
       "    }\n",
       "\n",
       "    .dataframe thead th {\n",
       "        text-align: right;\n",
       "    }\n",
       "</style>\n",
       "<table border=\"1\" class=\"dataframe\">\n",
       "  <thead>\n",
       "    <tr style=\"text-align: right;\">\n",
       "      <th></th>\n",
       "      <th>athlete_id</th>\n",
       "      <th>name</th>\n",
       "      <th>born_date</th>\n",
       "      <th>born_city</th>\n",
       "      <th>born_region</th>\n",
       "      <th>born_country</th>\n",
       "      <th>NOC</th>\n",
       "      <th>height_cm</th>\n",
       "      <th>weight_kg</th>\n",
       "      <th>died_date</th>\n",
       "    </tr>\n",
       "  </thead>\n",
       "  <tbody>\n",
       "  </tbody>\n",
       "</table>\n",
       "</div>"
      ],
      "text/plain": [
       "Empty DataFrame\n",
       "Columns: [athlete_id, name, born_date, born_city, born_region, born_country, NOC, height_cm, weight_kg, died_date]\n",
       "Index: []"
      ]
     },
     "execution_count": 28,
     "metadata": {},
     "output_type": "execute_result"
    }
   ],
   "source": [
    "#### tribute to Shaquille O'Neal\n",
    "bios_df.loc[bios_df['name'].str.startswith('Shaq', na=False)]"
   ]
  },
  {
   "cell_type": "markdown",
   "metadata": {},
   "source": [
    "Exercise: \n",
    "\n",
    "Trouver les athlètes ayant le même prénom que vous\n",
    "\n",
    "Ensuite, créez un histogramme qui affiche la répartition des pays (NOC) des athlètes trouvés.\n"
   ]
  },
  {
   "cell_type": "code",
   "execution_count": null,
   "metadata": {},
   "outputs": [],
   "source": []
  },
  {
   "cell_type": "markdown",
   "metadata": {},
   "source": [
    "##### Séries Chronologiques\n",
    "En utilisant le NumPy **datetime64**, pandas contient des capacités et des fonctionnalités étendues pour travailler avec des données de séries temporelles dans tous les domaines. \n",
    "Les séries chronologiques sont des ensembles de données indexées par le temps. Elles sont essentielles pour l'analyse des tendances, des prédictions et des modèles temporels."
   ]
  },
  {
   "cell_type": "code",
   "execution_count": null,
   "metadata": {},
   "outputs": [],
   "source": [
    "type(bios_df['born_date'][0])"
   ]
  },
  {
   "cell_type": "code",
   "execution_count": null,
   "metadata": {},
   "outputs": [],
   "source": [
    "#### la conversion entre str et datetime\n",
    "new_datetime = pd.to_datetime(bios_df['born_date'][0]).date\n",
    "new_datetime"
   ]
  },
  {
   "cell_type": "markdown",
   "metadata": {},
   "source": [
    "Dans notre dataset, nous avons deux colonnes contenant des dates sous forme de chaînes de caractères (born_date, died_date). Nous devons les convertir en datetime pour une meilleure manipulation :"
   ]
  },
  {
   "cell_type": "code",
   "execution_count": 14,
   "metadata": {},
   "outputs": [],
   "source": [
    "bios_df[\"born_date\"] = pd.to_datetime(bios_df[\"born_date\"], errors='coerce', exact = False)\n",
    "bios_df[\"died_date\"] = pd.to_datetime(bios_df[\"died_date\"], errors='coerce', exact = False)"
   ]
  },
  {
   "cell_type": "code",
   "execution_count": null,
   "metadata": {},
   "outputs": [],
   "source": [
    "bios_df['born_date']"
   ]
  },
  {
   "cell_type": "code",
   "execution_count": null,
   "metadata": {},
   "outputs": [],
   "source": [
    "bios_df['born_date'].dt.year.dropna()"
   ]
  },
  {
   "cell_type": "code",
   "execution_count": null,
   "metadata": {},
   "outputs": [],
   "source": [
    "#### Histogramme des Années de Naissance\n",
    "all_years = bios_df[\"born_date\"].dt.year.dropna().astype(int)\n",
    "\n",
    "plt.figure(figsize = (10,5))\n",
    "plt.hist(all_years, bins = 30, color = 'teal', edgecolor = 'black')\n",
    "plt.xlabel(\"Année de naissance\")\n",
    "plt.ylabel(\"Nombre d'athlètes\")\n",
    "plt.title(\"Distribution des années de naissance des athlètes\")\n",
    "plt.show()"
   ]
  },
  {
   "cell_type": "code",
   "execution_count": null,
   "metadata": {},
   "outputs": [],
   "source": [
    "bios_df['born_date']"
   ]
  },
  {
   "cell_type": "code",
   "execution_count": null,
   "metadata": {},
   "outputs": [],
   "source": [
    "bios_df.dropna(subset = ['born_date'], inplace = True) ##### supprime uniquement les lignes où la colonne born_date contient une valeur manquante (NaN).\n",
    "bios_df.sort_values(by = ['born_date']) ### Note: Le tri n'est pas appliqué directement au DataFrame, car inplace=True n’a pas été précisé."
   ]
  },
  {
   "cell_type": "code",
   "execution_count": null,
   "metadata": {},
   "outputs": [],
   "source": []
  },
  {
   "cell_type": "markdown",
   "metadata": {},
   "source": [
    "Visualisation des principales nationalités de tous les athlètes sur notre ligne temporelle"
   ]
  },
  {
   "cell_type": "code",
   "execution_count": null,
   "metadata": {},
   "outputs": [],
   "source": []
  },
  {
   "cell_type": "markdown",
   "metadata": {},
   "source": [
    "Exercise\n",
    "\n",
    "1) Ajoutez une nouvelle colonne booléenne nommée **'born_after_2000'**, qui indique **True** si un athlète est né après l'année 2000 et **False** dans le cas contraire. \n",
    "2) Affichez un PieChart de la répartition des pays entre 2000 et l'année la plus récente de l'ensemble de données."
   ]
  },
  {
   "cell_type": "code",
   "execution_count": 108,
   "metadata": {},
   "outputs": [],
   "source": []
  },
  {
   "cell_type": "code",
   "execution_count": null,
   "metadata": {},
   "outputs": [],
   "source": [
    "# countries = ['Albania', 'France', 'Switzerland', 'United States']\n",
    "new_df = df['NOC'].loc[(df['height_cm'] > 200.0)]\n",
    "new_df"
   ]
  },
  {
   "cell_type": "code",
   "execution_count": null,
   "metadata": {},
   "outputs": [],
   "source": [
    "bios_df[['name', 'NOC']].loc[bios_df['name'].values.startswith('Nikita')]"
   ]
  },
  {
   "cell_type": "code",
   "execution_count": null,
   "metadata": {},
   "outputs": [],
   "source": [
    "new_df.value_counts()"
   ]
  },
  {
   "cell_type": "markdown",
   "metadata": {},
   "source": [
    "##### Manipulation Avancée des Données avec Pandas : Group By, Merge, Join et Concat\n",
    "\n",
    "Lors du traitement des données tabulaires, il est souvent nécessaire d’agréger, fusionner ou concaténer des DataFrames.\n",
    "\n",
    "**groupby()** : Regrouper et Aggréger les Données\n",
    "\n",
    "Le groupby permet de regrouper les données en fonction d'une ou plusieurs colonnes et d'appliquer des opérations d'agrégation (somme, moyenne, comptage, etc.)."
   ]
  },
  {
   "cell_type": "code",
   "execution_count": null,
   "metadata": {},
   "outputs": [],
   "source": [
    "data = {\"Athlete\": [\"A\", \"B\", \"A\", \"C\", \"B\"],\n",
    "        \"Discipline\": [\"Natation\", \"Athlétisme\", \"Natation\", \"Cyclisme\", \"Athlétisme\"],\n",
    "        \"Medals\": [1, 2, 3, 1, 4],\n",
    "        'Max Speed': [380., 370., 240., 260., 180.]}\n",
    "df = pd.DataFrame(data)\n",
    "print(df)\n",
    "# Regrouper par athlète et calculer le total des médailles\n",
    "medals_per_athlete = df.groupby(\"Athlete\")[\"Medals\"].sum()\n",
    "print(medals_per_athlete)"
   ]
  },
  {
   "cell_type": "code",
   "execution_count": null,
   "metadata": {},
   "outputs": [],
   "source": [
    "df.groupby('Discipline')['Max Speed'].mean()"
   ]
  },
  {
   "cell_type": "code",
   "execution_count": null,
   "metadata": {},
   "outputs": [],
   "source": [
    "#### Exemple dans notre dataset\n",
    "athletes_per_country = bios_df.groupby(\"NOC\")[\"athlete_id\"].count()\n",
    "print(athletes_per_country)"
   ]
  },
  {
   "cell_type": "markdown",
   "metadata": {},
   "source": [
    "**merge()** : Fusionner des DataFrames\n",
    "\n",
    "La méthode merge() permet de combiner deux DataFrames en fonction d'une clé commune, similaire à une jointure SQL."
   ]
  },
  {
   "cell_type": "code",
   "execution_count": null,
   "metadata": {},
   "outputs": [],
   "source": [
    "athletes = pd.DataFrame({\"athlete_id\": ['A1', 'A2', 'A3'], \"name\": [\"Alice\", \"Bob\", \"Charlie\"]})\n",
    "medals = pd.DataFrame({\"athlete_id\": ['A1', 'A2', 'A3'], \"gold_medals\": [2, 0, 1]})\n",
    "athletes"
   ]
  },
  {
   "cell_type": "code",
   "execution_count": null,
   "metadata": {},
   "outputs": [],
   "source": [
    "medals"
   ]
  },
  {
   "cell_type": "code",
   "execution_count": null,
   "metadata": {},
   "outputs": [],
   "source": [
    "#### Fusion sur la colonne 'athlete_id'\n",
    "merged_df = pd.merge(athletes, medals, on=\"athlete_id\")\n",
    "merged_df"
   ]
  },
  {
   "cell_type": "markdown",
   "metadata": {},
   "source": [
    "**join()** : Fusionner sur l’Index\n",
    "\n",
    "Contrairement à merge(), la méthode join() fonctionne sur les index des DataFrames."
   ]
  },
  {
   "cell_type": "code",
   "execution_count": null,
   "metadata": {},
   "outputs": [],
   "source": [
    "first_df = pd.DataFrame({'key1': ['K0', 'K1', 'K2', 'K3', 'K4', 'K5'],\n",
    "                   'A': ['A0', 'A1', 'A2', 'A3', 'A4', 'A5']})\n",
    "print('First DF: {}\\n'.format(first_df))\n",
    "other = pd.DataFrame({'key2': ['K0', 'K1', 'K2'],\n",
    "                      'B': ['B0', 'B1', 'B2']})\n",
    "print('Second DF: {}\\n'.format(other))\n",
    "\n",
    "joined_df = first_df.join(other)\n",
    "joined_df"
   ]
  },
  {
   "cell_type": "markdown",
   "metadata": {},
   "source": [
    "**concat()** : Concaténation de DataFrames\n",
    "\n",
    "La fonction concat() permet d'assembler plusieurs DataFrames soit en ligne (axis=0), soit en colonne (axis=1)."
   ]
  },
  {
   "cell_type": "code",
   "execution_count": null,
   "metadata": {},
   "outputs": [],
   "source": [
    "part1 = pd.DataFrame({\"athlete_id\": [1, 2], \"name\": [\"Alice\", \"Bob\"]})\n",
    "part2 = pd.DataFrame({\"athlete_id\": [3, 4], \"name\": [\"Charlie\", \"David\"]})\n",
    "\n",
    "print('First DF: {}\\n'.format(part1))\n",
    "print('Second DF: {}\\n'.format(part2))\n",
    "\n",
    "#### Concaténation verticale\n",
    "concatenated_df = pd.concat([part1, part2], axis=0)\n",
    "concatenated_df"
   ]
  },
  {
   "cell_type": "markdown",
   "metadata": {},
   "source": [
    "Exercise\n",
    "\n",
    "Revenons à notre ensemble de données :\n",
    "\n",
    "1) Imprimez une concaténation de tous les athlètes jouant pour la France ou la Suisse.\n",
    "2) Regroupez chaque athlète par ville de naissance et calculez la moyenne taille/ville."
   ]
  },
  {
   "cell_type": "code",
   "execution_count": null,
   "metadata": {},
   "outputs": [],
   "source": []
  }
 ],
 "metadata": {
  "kernelspec": {
   "display_name": "Python 3",
   "language": "python",
   "name": "python3"
  },
  "language_info": {
   "codemirror_mode": {
    "name": "ipython",
    "version": 3
   },
   "file_extension": ".py",
   "mimetype": "text/x-python",
   "name": "python",
   "nbconvert_exporter": "python",
   "pygments_lexer": "ipython3",
   "version": "3.12.3"
  }
 },
 "nbformat": 4,
 "nbformat_minor": 2
}

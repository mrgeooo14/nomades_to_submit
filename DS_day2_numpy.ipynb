{
 "cells": [
  {
   "cell_type": "markdown",
   "metadata": {},
   "source": [
    "Alors que la première section était consacrée à la compréhension des bases de NumPy, celle-ci couvrira des applications plus avancées et complexes.\n",
    "\n",
    "\n",
    "Genis Skura - Janvier 2025"
   ]
  },
  {
   "cell_type": "markdown",
   "metadata": {},
   "source": [
    "Comparaisons, Masques et Logique Booléenne"
   ]
  },
  {
   "cell_type": "code",
   "execution_count": 14,
   "metadata": {},
   "outputs": [
    {
     "name": "stdout",
     "output_type": "stream",
     "text": [
      "Tableau : [55 92 58  6 88 86 59 54 17 50]\n",
      "Éléments supérieurs à 50 : [ True  True  True False  True  True  True  True False False]\n",
      "Éléments égaux à 25 : [False False False False False False False False False False]\n"
     ]
    }
   ],
   "source": [
    "import numpy as np\n",
    "\n",
    "a = np.random.randint(0, 100, size=10)\n",
    "print(\"Tableau :\", a)\n",
    "\n",
    "a_superior = a > 50\n",
    "print(\"Éléments supérieurs à 50 :\", a_superior)\n",
    "\n",
    "a_egal = a == 25\n",
    "print(\"Éléments égaux à 25 :\", a_egal)"
   ]
  },
  {
   "cell_type": "code",
   "execution_count": 13,
   "metadata": {},
   "outputs": [
    {
     "data": {
      "text/plain": [
       "38"
      ]
     },
     "execution_count": 13,
     "metadata": {},
     "output_type": "execute_result"
    }
   ],
   "source": [
    "a[(a > 60)  | (a < 80)][2]"
   ]
  },
  {
   "cell_type": "markdown",
   "metadata": {},
   "source": [
    "Un masque booléen est utilisé pour extraire les valeurs d'un tableau qui respectent une certaine condition."
   ]
  },
  {
   "cell_type": "code",
   "execution_count": 4,
   "metadata": {},
   "outputs": [
    {
     "name": "stdout",
     "output_type": "stream",
     "text": [
      "Valeurs filtrées : [88 64 60 71]\n"
     ]
    }
   ],
   "source": [
    "valeurs_filtrees = a[a_superior]\n",
    "print(\"Valeurs filtrées :\", valeurs_filtrees)"
   ]
  },
  {
   "cell_type": "markdown",
   "metadata": {},
   "source": [
    "**np.where()** -> permet de remplacer les valeurs selon une condition. Si la condition est vraie, une valeur est assignée"
   ]
  },
  {
   "cell_type": "code",
   "execution_count": 15,
   "metadata": {},
   "outputs": [
    {
     "name": "stdout",
     "output_type": "stream",
     "text": [
      "Tableau modifié : [100 100 100   6 100 100 100 100  17  50]\n"
     ]
    }
   ],
   "source": [
    "tableau_modifie = np.where(a > 50, 100, a)\n",
    "print(\"Tableau modifié :\", tableau_modifie)"
   ]
  },
  {
   "cell_type": "markdown",
   "metadata": {},
   "source": [
    "Le terme NaN signifie Not a Number, il s'agit des données manquantes, non définies ou invalides."
   ]
  },
  {
   "cell_type": "code",
   "execution_count": 16,
   "metadata": {},
   "outputs": [
    {
     "name": "stdout",
     "output_type": "stream",
     "text": [
      "Before: [[ 1.  2.]\n",
      " [nan  3.]\n",
      " [nan nan]]\n",
      "[[False False]\n",
      " [ True False]\n",
      " [ True  True]]\n",
      "After: [[ 1.  2.]\n",
      " [22.  3.]\n",
      " [22. 22.]]\n"
     ]
    }
   ],
   "source": [
    "x = np.array([[1., 2.], [np.nan, 3.], [np.nan, np.nan]])\n",
    "print(\"Before: {}\".format(x))\n",
    "nan_mask = np.isnan(x)\n",
    "print(nan_mask)\n",
    "x[nan_mask] = 22.0\n",
    "print(\"After: {}\".format(x))"
   ]
  },
  {
   "cell_type": "markdown",
   "metadata": {},
   "source": [
    "Example de modification"
   ]
  },
  {
   "cell_type": "code",
   "execution_count": 17,
   "metadata": {},
   "outputs": [
    {
     "name": "stdout",
     "output_type": "stream",
     "text": [
      "Tableau modifié :\n",
      " [[[ 76  49  87   0  44]\n",
      "  [ 46  14  13  37   1]\n",
      "  [ 59  73  19  79 -11]\n",
      "  [ 43  66  86  43  88]]\n",
      "\n",
      " [[ 98  10  29  24  42]\n",
      "  [ 77  68  79  19  36]\n",
      "  [ 88 -11  10  86  10]\n",
      "  [ 10 -11  98   7  72]]\n",
      "\n",
      " [[ 37  80  27  69  27]\n",
      "  [ 11  19   3  11  98]\n",
      "  [ 87  80  83  54  92]\n",
      "  [ 68   1  44 -11  75]]]\n",
      "Moyenne des valeurs remplacées : -11.0\n"
     ]
    }
   ],
   "source": [
    "arr = np.random.randint(0, 100, size=(3, 4, 5))\n",
    "\n",
    "#### Masque et opérations\n",
    "masque = (30 <= arr) & (arr <= 70) & (arr % 5 == 0)\n",
    "arr[masque] = -11 \n",
    "moyenne = arr[masque].mean() if masque.any() else None\n",
    "\n",
    "print(\"Tableau modifié :\\n\", arr)\n",
    "print(\"Moyenne des valeurs remplacées :\", moyenne)"
   ]
  },
  {
   "cell_type": "code",
   "execution_count": 23,
   "metadata": {},
   "outputs": [
    {
     "name": "stdout",
     "output_type": "stream",
     "text": [
      "[[40 70 28 17 56  7 22 39  2 63]\n",
      " [55 52 81 32 16 50 95 53 51 23]\n",
      " [ 0 17 70 37 70  2 13 65 64 55]\n",
      " [22  4  2 96  3 97 73 27  6 83]\n",
      " [26 12 39  2  8 35 56 45 83  8]\n",
      " [14 76 37 68 28 75 25 55 88  4]\n",
      " [37 66 92 24 98 64 13 13 38 20]\n",
      " [ 4 44 33 19 25 97  5 60 11 47]\n",
      " [89 47 16 65 78  7  1 98 41 69]\n",
      " [42 49 15 46 30 66 40 92 21 72]]\n"
     ]
    },
    {
     "data": {
      "image/png": "[encoded data removed]",
      "text/plain": [
       "<Figure size 600x300 with 2 Axes>"
      ]
     },
     "metadata": {},
     "output_type": "display_data"
    }
   ],
   "source": [
    "import matplotlib.pyplot as plt\n",
    "\n",
    "tableau_2d = np.random.randint(0, 100, size=(10, 10))\n",
    "print(tableau_2d)\n",
    "masque = (10 <= tableau_2d) & (tableau_2d <= 95)\n",
    "tableau_modifie = tableau_2d.copy()\n",
    "tableau_modifie[masque] = -1\n",
    "\n",
    "\n",
    "fig, axes = plt.subplots(1, 2, figsize=(6, 3))\n",
    "axes[0].imshow(tableau_2d, cmap='Reds', interpolation='nearest')\n",
    "axes[0].set_title(\"Avant Masquage\")\n",
    "axes[0].axis('off')\n",
    "axes[1].imshow(tableau_modifie, cmap='Reds', interpolation='nearest')\n",
    "axes[1].set_title(\"Après Masquage\")\n",
    "axes[1].axis('off')\n",
    "plt.show()"
   ]
  },
  {
   "cell_type": "markdown",
   "metadata": {},
   "source": [
    "##### Tri et Partionnement Rapides \n",
    "\n",
    "Le tri consiste à placer des éléments dans une séquence ordonnée.\n",
    "Une séquence ordonnée est une séquence dont les éléments sont classés dans un ordre numérique ou alphabétique, croissant ou décroissant."
   ]
  },
  {
   "cell_type": "code",
   "execution_count": 25,
   "metadata": {},
   "outputs": [
    {
     "name": "stdout",
     "output_type": "stream",
     "text": [
      "[[3 2 4]\n",
      " [5 0 1]]\n",
      "[[2 3 4]\n",
      " [0 1 5]]\n"
     ]
    }
   ],
   "source": [
    "arr = np.array([[3, 2, 4], [5, 0, 1]])\n",
    "print(arr)\n",
    "print(np.sort(arr))"
   ]
  },
  {
   "cell_type": "code",
   "execution_count": 27,
   "metadata": {},
   "outputs": [
    {
     "name": "stdout",
     "output_type": "stream",
     "text": [
      "['grenade' 'mangue' 'avocat' 'kaki' 'abricot' 'cacao' 'longane'\n",
      " 'framboise']\n",
      "['abricot' 'avocat' 'cacao' 'framboise' 'grenade' 'kaki' 'longane'\n",
      " 'mangue']\n"
     ]
    }
   ],
   "source": [
    "arr = np.array(['grenade', 'mangue', 'avocat', 'kaki', 'abricot', 'cacao', 'longane', 'framboise'])\n",
    "print(arr)\n",
    "print(np.sort(arr))"
   ]
  },
  {
   "cell_type": "code",
   "execution_count": 28,
   "metadata": {},
   "outputs": [
    {
     "data": {
      "image/png": "[encoded data removed]",
      "text/plain": [
       "<Figure size 600x300 with 2 Axes>"
      ]
     },
     "metadata": {},
     "output_type": "display_data"
    }
   ],
   "source": [
    "x = np.random.randint(0, 100, size = 50)\n",
    "y = np.random.randint(0, 100, size = 50)\n",
    "x_sorted = np.sort(x)\n",
    "y_sorted = np.sort(y)\n",
    "\n",
    "\n",
    "fig, axes = plt.subplots(1, 2, figsize=(6, 3))\n",
    "axes[0].scatter(x, y, color = 'teal', alpha = 0.7)\n",
    "axes[0].set_title(\"Avant Triage\")\n",
    "axes[1].scatter(x_sorted, y_sorted, color = 'teal', alpha = 0.7)\n",
    "axes[1].set_title(\"Après Triage\")\n",
    "plt.show()"
   ]
  },
  {
   "cell_type": "markdown",
   "metadata": {},
   "source": [
    "Partionnement\n",
    "\n",
    "**np.partition** divise le tableau en deux parties : Les $k$ plus petites valeurs (ou les plus grandes en utilisant des indices négatifs).\n",
    "\n",
    "Cette méthode est plus rapide qu’un tri global si seules quelques valeurs extrêmes sont nécessaires."
   ]
  },
  {
   "cell_type": "code",
   "execution_count": 10,
   "metadata": {},
   "outputs": [
    {
     "name": "stdout",
     "output_type": "stream",
     "text": [
      "[92 18 83 11 48 57 49 70  9 52 24 65 72 52 60]\n"
     ]
    },
    {
     "data": {
      "text/plain": [
       "array([ 9, 11, 24, 18, 48, 52, 49, 52, 57, 60, 65, 70, 72, 83, 92])"
      ]
     },
     "execution_count": 10,
     "metadata": {},
     "output_type": "execute_result"
    }
   ],
   "source": [
    "import numpy as np\n",
    "\n",
    "notes = np.array([92, 18, 83, 11, 48, 57, 49, 70,  9, 52, 24, 65, 72, 52, 60])\n",
    "print(notes)\n",
    "notes_p = np.partition(notes, 4)\n",
    "notes_p\n",
    "\n",
    "#### p[4] est 48 ; tous les éléments de p[:4] sont inférieurs ou égaux à p[4],\n",
    "# et tous les éléments de p[5 :] sont supérieurs ou égaux à p[4]. \n",
    "# La partition est la suivante : [9, 11, 24, 18], [48], [52, 49, 52, 57, 60, 65, 70, 72, 83, 92]"
   ]
  },
  {
   "cell_type": "markdown",
   "metadata": {},
   "source": [
    "Exercise\n",
    "\n",
    "Générer un tableau 10x10 d'échantillons aléatoires à partir d'une distribution uniforme, le trier et afficher le tableau original et le tableau trié côte à côte à l'aide de imshow()."
   ]
  },
  {
   "cell_type": "code",
   "execution_count": 40,
   "metadata": {},
   "outputs": [
    {
     "data": {
      "image/png": "[encoded data removed]",
      "text/plain": [
       "<Figure size 600x300 with 2 Axes>"
      ]
     },
     "metadata": {},
     "output_type": "display_data"
    }
   ],
   "source": [
    "t = np.random.randint(0,100,size=(10,10))\n",
    "\n",
    "t_sorted = np.sort(t, axis=1)\n",
    "t_sorted = np.sort(t_sorted, axis=0)\n",
    "\n",
    "fig, axes = plt.subplots(1,2, figsize = (6,3))\n",
    "axes[0].imshow(t, cmap='Blues', interpolation='nearest')\n",
    "axes[0].set_title(\"Avant Triage\")\n",
    "axes[0].axis('off')\n",
    "axes[1].imshow(t_sorted, cmap='Blues', interpolation='nearest')\n",
    "axes[1].set_title(\"Après Triage\")\n",
    "axes[1].axis('off')\n",
    "plt.show()\n"
   ]
  },
  {
   "cell_type": "markdown",
   "metadata": {},
   "source": [
    "##### Linear algebra (numpy.linalg)\n",
    "\n",
    "Les fonctions d'algèbre linéaire de NumPy fournissent des implémentations efficaces de bas niveau des algorithmes d'algèbre linéaire standard.\n",
    "\n",
    "Un vecteur est une entité mathématique définie dans un espace ayant une direction et une magnitude. Par exemple, dans un espace à 2 dimensions, un vecteur peut être représenté comme $$v = [v_1, v_2]$$\n",
    "\n",
    "Une matrice est une disposition rectangulaire de nombres, souvent utilisée pour représenter des transformations linéaires ou des systèmes d'équations linéaires. Par exemple, une matrice \n",
    "𝐴 peut être définie comme :\n",
    "\n",
    "\\begin{bmatrix}\n",
    "a_{11} & a_{12} & a_{13}\\\\\n",
    "a_{21} & a_{22} & a_{23}\n",
    "\\end{bmatrix}\n",
    "\n",
    "Le **produit scalaire** entre deux vecteurs \n",
    "$a$ et $b$ est une somme des produits des éléments correspondants :\n",
    "\n",
    "\n",
    "$$a \\cdot b = \\sum_{i=1}^{n} a_i \\cdot b_i$$\n",
    "\n",
    "Le **produit extérieur** crée une matrice ou chaque élément $M_{ij}$ est le produit de $a_i$ et $b_j$. Formellement:\n",
    "\n",
    "$$M_{ij} = a_i \\cdot b_j \\\\ \n",
    "\n",
    "a = [1, 2, 3], \\, b = [4, 5, 6]\n",
    " \\\\ \n",
    " \n",
    " \\text{outer}(a, b) =\n",
    "\\begin{bmatrix}\n",
    "1 \\cdot 4 & 1 \\cdot 5 & 1 \\cdot 6 \\\\\n",
    "2 \\cdot 4 & 2 \\cdot 5 & 2 \\cdot 6 \\\\\n",
    "3 \\cdot 4 & 3 \\cdot 5 & 3 \\cdot 6\n",
    "\\end{bmatrix}\n",
    "=\n",
    "\\begin{bmatrix}\n",
    "4 & 5 & 6 \\\\\n",
    "8 & 10 & 12 \\\\\n",
    "12 & 15 & 18\n",
    "\\end{bmatrix}\n",
    "$$\n"
   ]
  },
  {
   "cell_type": "code",
   "execution_count": 11,
   "metadata": {},
   "outputs": [
    {
     "name": "stdout",
     "output_type": "stream",
     "text": [
      "Produit scalaire de deux vecteurs a et b : 32\n",
      "Produit scalaire avec vdot : 32\n",
      "Produit intérieur : 32\n",
      "Produit extérieur : [[ 4  5  6]\n",
      " [ 8 10 12]\n",
      " [12 15 18]]\n"
     ]
    }
   ],
   "source": [
    "a = np.array([1, 2, 3])\n",
    "b = np.array([4, 5, 6])\n",
    "\n",
    "#### produit scalaire simple\n",
    "resultat = np.dot(a, b)\n",
    "print(\"Produit scalaire de deux vecteurs a et b :\", resultat)\n",
    "\n",
    "#### vdot est similaire à dot, mais il prend le conjugué complexe des éléments si nécessaire (utile pour les nombres complexes).\n",
    "resultat = np.vdot(a, b)\n",
    "print(\"Produit scalaire avec vdot :\", resultat)\n",
    "\n",
    "#### inner calcule la somme des produits des éléments correspondants de deux tableaux\n",
    "resultat = np.inner(a, b)\n",
    "print(\"Produit intérieur :\", resultat)\n",
    "\n",
    "#### Exemple : produit extérieur\n",
    "resultat = np.outer(a, b)\n",
    "print(\"Produit extérieur :\", resultat)"
   ]
  },
  {
   "cell_type": "markdown",
   "metadata": {},
   "source": [
    "Produit Scalaire de plusieurs matrices"
   ]
  },
  {
   "cell_type": "code",
   "execution_count": 12,
   "metadata": {},
   "outputs": [
    {
     "name": "stdout",
     "output_type": "stream",
     "text": [
      "Produit scalaire multiple (multi_dot) : [[ 413  454]\n",
      " [ 937 1030]]\n"
     ]
    }
   ],
   "source": [
    "#### Exemple : produit scalaire de plusieurs matrices\n",
    "A = np.array([[1, 2], [3, 4]])\n",
    "B = np.array([[5, 6], [7, 8]])\n",
    "C = np.array([[9, 10], [11, 12]])\n",
    "\n",
    "resultat = np.linalg.multi_dot([A, B, C])\n",
    "print(\"Produit scalaire multiple (multi_dot) :\", resultat)"
   ]
  },
  {
   "cell_type": "markdown",
   "metadata": {},
   "source": [
    "Décompositions \n",
    "\n",
    "Les décompositions matricielles sont des outils puissants en algèbre linéaire qui permettent de factoriser une matrice en plusieurs matrices plus simples. Les décompositions sont couramment utilisées dans des problèmes d'optimisation où il faut manipuler des matrices définies positives.\n",
    "\n",
    "Exemple : Cholesky \n",
    "Si $A$ est une matrice définie positive et symétrique, elle peut etre factorisée en : $$A = L \\cdot L^T$$ où \n",
    "L est une matrice triangulaire inférieure (ou U, triangulaire supérieure).\n"
   ]
  },
  {
   "cell_type": "code",
   "execution_count": 13,
   "metadata": {},
   "outputs": [
    {
     "name": "stdout",
     "output_type": "stream",
     "text": [
      "Matrice originale A :\n",
      " [[4 2 2]\n",
      " [2 3 1]\n",
      " [2 1 3]]\n",
      "Matrice triangulaire inférieure L :\n",
      " [[2.         0.         0.        ]\n",
      " [1.         1.41421356 0.        ]\n",
      " [1.         0.         1.41421356]]\n",
      "Reconstruction de A avec L * L^T :\n",
      " [[4. 2. 2.]\n",
      " [2. 3. 1.]\n",
      " [2. 1. 3.]]\n"
     ]
    }
   ],
   "source": [
    "A = np.array([[4, 2, 2],\n",
    "              [2, 3, 1],\n",
    "              [2, 1, 3]])\n",
    "\n",
    "#### Décomposition de Cholesky\n",
    "L = np.linalg.cholesky(A)\n",
    "\n",
    "#### Vérification : Reconstituer la matrice d'origine\n",
    "A_reconstructed = np.dot(L, L.T)\n",
    "\n",
    "#### Affichage des résultats\n",
    "print(\"Matrice originale A :\\n\", A)\n",
    "print(\"Matrice triangulaire inférieure L :\\n\", L)\n",
    "print(\"Reconstruction de A avec L * L^T :\\n\", A_reconstructed)"
   ]
  },
  {
   "cell_type": "markdown",
   "metadata": {},
   "source": [
    "Eigenvalues & Eigenvectors (Valeurs Propres et Vecteurs Propes)\n",
    "\n",
    "Les valeurs propres et vecteurs propres sont des concepts en algèbre linéaire qui te permettent de comprendre comment une matrice agit sur un vecteur et simplifient de nombreux calculs matriciels.  En science des données, ils sont surtout populaires pour la réduction de la dimensionnalité, en particulier dans **l'Analyse en Composantes Principales (ACP)** pour identifier les axes les plus significatifs dans les données.\n",
    "\n",
    "Le vecteur qui ne change que d'un facteur scalaire après l'application d'une transformation est appelé vecteur propre, et la valeur scalaire attachée au vecteur propre est appelée valeur propre."
   ]
  },
  {
   "cell_type": "code",
   "execution_count": 14,
   "metadata": {},
   "outputs": [
    {
     "name": "stdout",
     "output_type": "stream",
     "text": [
      "Matrice A :\n",
      " [[4 2]\n",
      " [1 3]]\n",
      "Valeurs propres :\n",
      " [5. 2.]\n",
      "Vecteurs propres :\n",
      " [[ 0.89442719 -0.70710678]\n",
      " [ 0.4472136   0.70710678]]\n",
      "\n",
      "Vérification pour λ_1 :\n",
      "A * v :  [4.47213595 2.23606798]\n",
      "λ * v :  [4.47213595 2.23606798]\n",
      "\n",
      "Vérification pour λ_2 :\n",
      "A * v :  [-1.41421356  1.41421356]\n",
      "λ * v :  [-1.41421356  1.41421356]\n"
     ]
    }
   ],
   "source": [
    "A = np.array([\n",
    "    [4, 2],\n",
    "    [1, 3]\n",
    "])\n",
    "\n",
    "#### Calculer les valeurs propres et vecteurs propres\n",
    "eigenvalues, eigenvectors = np.linalg.eig(A)\n",
    "\n",
    "#### Afficher les résultats\n",
    "print(\"Matrice A :\\n\", A)\n",
    "print(\"Valeurs propres :\\n\", eigenvalues)\n",
    "print(\"Vecteurs propres :\\n\", eigenvectors)\n",
    "\n",
    "#### Vérification : A * v = λ * v pour chaque valeur propre/vecteur propre\n",
    "for i in range(len(eigenvalues)):\n",
    "    lambda_v = eigenvalues[i] * eigenvectors[:, i]\n",
    "    A_v = np.dot(A, eigenvectors[:, i])\n",
    "    print(f\"\\nVérification pour λ_{i+1} :\")\n",
    "    print(\"A * v : \", A_v)\n",
    "    print(\"λ * v : \", lambda_v)\n"
   ]
  },
  {
   "cell_type": "markdown",
   "metadata": {},
   "source": [
    "Norme : La norme mesure la taille ou la longueur d'un vecteur ou d'une matrice. Elles sont cruciales pour quantifier la distance entre points, vecteurs ou prédictions dans les espaces de caractéristiques.\n",
    "\n",
    "$$\\|v\\|_2 = \\sqrt{\\sum_{i=1}^n v_i^2},  \\\\ \\quad \\|v\\|_1 = \\sum_{i=1}^n |v_i|$$\n"
   ]
  },
  {
   "cell_type": "code",
   "execution_count": 15,
   "metadata": {},
   "outputs": [
    {
     "name": "stdout",
     "output_type": "stream",
     "text": [
      "Norme L2 du vecteur : 13.96424004376894\n",
      "Norme L1 du vecteur : 25.0\n"
     ]
    }
   ],
   "source": [
    "v = np.array([3, 4, 12, 5, 1])\n",
    "\n",
    "l2_norm = np.linalg.norm(v, ord = 2)  ### Norme Euclidienne (L^2)\n",
    "l1_norm = np.linalg.norm(v, ord = 1)  ### Norme L^1\n",
    "\n",
    "print(\"Norme L2 du vecteur :\", l2_norm)\n",
    "print(\"Norme L1 du vecteur :\", l1_norm)"
   ]
  },
  {
   "cell_type": "markdown",
   "metadata": {},
   "source": [
    "Nombre de condition -\n",
    "Le nombre de condition d’une matrice $A$ mesure sa sensibilité aux perturbations. Il est défini comme :\n",
    "\n",
    "$$ \\kappa(A) = \\|A\\| \\cdot \\|A^{-1}\\|$$\n",
    "\n",
    "Un grand nombre de condition indique que la matrice est proche d'être singulière (non inversible). Si une matrice est mal conditionnée dans une régression linéaire, cela peut entraîner des prédictions très instables.\n",
    "\n",
    "En règle générale, si le nombre de condition $\\kappa(A) = 10^k$, alors vous pouvey perdre jusqu'à $k$ chiffres de précision en plus de ce qui serait perdu pour la méthode numérique en soi."
   ]
  },
  {
   "cell_type": "code",
   "execution_count": 16,
   "metadata": {},
   "outputs": [
    {
     "name": "stdout",
     "output_type": "stream",
     "text": [
      "Nombre de condition de la matrice : 2.2640329956927707\n"
     ]
    }
   ],
   "source": [
    "a = np.array([[1, 2, 7], [3, 4, 2]])\n",
    "condition_number = np.linalg.cond(a)\n",
    "print(\"Nombre de condition de la matrice :\", condition_number)"
   ]
  },
  {
   "cell_type": "markdown",
   "metadata": {},
   "source": [
    "Determinant - \n",
    "Le déterminant fournit des informations importantes sur une matrice, telles que :\n",
    "\n",
    "1) Inversibilité : Si le déterminant est 0 la matrice n'est pas inversible.\n",
    "2) Volume : Il indique comment la matrice transforme les volumes dans un espace géométrique.\n",
    "3) Dépendance linéaire : Un déterminant nul indique que les lignes ou colonnes de la matrice sont linéairement dépendantes.\n",
    "\n",
    "$$\\text{det}(A) = \\sum_{\\text{permutations}} \\text{produits} - \\text{produits opposés}$$\n",
    "\n",
    "En PCA, le déterminant de la matrice de covariance aide à comprendre la \"diversité\" des données dans un espace."
   ]
  },
  {
   "cell_type": "code",
   "execution_count": 17,
   "metadata": {},
   "outputs": [
    {
     "name": "stdout",
     "output_type": "stream",
     "text": [
      "Déterminant de la matrice : -2.0000000000000004\n"
     ]
    }
   ],
   "source": [
    "a = np.array([[1, 2], [3, 4]])\n",
    "determinant = np.linalg.det(a)\n",
    "print(\"Déterminant de la matrice :\", determinant)"
   ]
  },
  {
   "cell_type": "markdown",
   "metadata": {},
   "source": [
    "La trace d'une matrice carrée $A$ est la somme des éléments sur sa diagonale principale :\n",
    "\n",
    "$$ \\text{trace}(A) = \\sum_{i=1}^n A_{ii}$$\n",
    "\n",
    "En machine learning, elle est utilisée dans les calculs des gradients pour optimiser des modèles."
   ]
  },
  {
   "cell_type": "code",
   "execution_count": 18,
   "metadata": {},
   "outputs": [
    {
     "name": "stdout",
     "output_type": "stream",
     "text": [
      "Trace de la matrice : 5\n"
     ]
    }
   ],
   "source": [
    "a = np.array([[1, 2], [3, 4]])\n",
    "trace = np.trace(a)\n",
    "print(\"Trace de la matrice :\", trace)"
   ]
  },
  {
   "cell_type": "markdown",
   "metadata": {},
   "source": [
    "##### Discrete Fourier Transform (numpy.fft)\n",
    "\n",
    "L'analyse de Fourier est fondamentalement une méthode permettant d'exprimer une fonction comme une somme de composantes périodiques et de récupérer la fonction à partir de ces composantes. Lorsque la fonction et sa transformée de Fourier sont remplacées par des contreparties discrétisées, on parle de transformée de Fourier discrète (DFT).\n",
    "\n",
    "Il existe de nombreuses façons de définir la TFD, mais dans Numpy, on utilise ce qui suit: \n",
    "\n",
    "$$ A_k = \\sum_{m=0}^{n-1} a_m \\exp\\left(-2\\pi i \\frac{mk}{n}\\right), \\quad k = 0, \\ldots, n-1.$$\n",
    "\n",
    "Elle est largement utilisée dans le traitement des signaux, l'analyse d'images et le traitement audio. Elle permet d'analyser le contenu fréquentiel d'un signal, ce qui la rend utile dans de nombreuses applications, notamment le filtrage, la compression de signaux et l'analyse spectrale."
   ]
  },
  {
   "cell_type": "code",
   "execution_count": 19,
   "metadata": {},
   "outputs": [
    {
     "name": "stdout",
     "output_type": "stream",
     "text": [
      "DFT of the signal: [ 51.+0.j   9.-8.j -21.+0.j   9.+8.j]\n",
      "Reconstructed signal: [12.+0.j 22.+0.j  3.+0.j 14.+0.j]\n"
     ]
    }
   ],
   "source": [
    "### Define an array of sample data (signal)\n",
    "signal = np.array([12, 22, 3, 14])\n",
    "\n",
    "### Compute the Discrete Fourier Transform of the signal\n",
    "dft_signal = np.fft.fft(signal)\n",
    "\n",
    "print(\"DFT of the signal:\", dft_signal)\n",
    "\n",
    "### Compute the Inverse Discrete Fourier Transform of the DFT\n",
    "reconstructed_signal = np.fft.ifft(dft_signal)\n",
    "\n",
    "print(\"Reconstructed signal:\", reconstructed_signal)"
   ]
  },
  {
   "cell_type": "markdown",
   "metadata": {},
   "source": [
    "Exercise\n",
    "\n",
    "Générez un signal réel avec le code ci-dessous, appliquez-lui la transformée discrète de Fourier (DFT) et après reconstruire le signal. En utilisant matplotlib (plt.plot()), visualisez le signal original et le signal reconstruit côte à côte.\n",
    "\n",
    "***\n",
    "fs = 100 \n",
    "\n",
    "t = np.linspace(0, 1, fs, endpoint=False)  \n",
    "\n",
    "freq = 5 \n",
    "\n",
    "signal = np.sin(2 * np.pi * freq * t) + 0.5 * np.random.normal(size=fs)  #### Sine wave + noise\n",
    "\n",
    "***"
   ]
  },
  {
   "cell_type": "code",
   "execution_count": 79,
   "metadata": {},
   "outputs": [],
   "source": []
  },
  {
   "cell_type": "markdown",
   "metadata": {},
   "source": [
    "##### Structured Arrays (Tableaux Structurés)\n",
    "\n",
    "Les tableaux structurés sont des ndarrays dont le type de données est une composition de types de données plus simples organisés comme une séquence de champs nommés. Donc des données hétérogènes, c'est-à-dire des ensembles où les colonnes peuvent contenir des types de données différents (entiers, flottants, chaînes, etc.) (similaire au Pandas)"
   ]
  },
  {
   "cell_type": "code",
   "execution_count": 20,
   "metadata": {},
   "outputs": [
    {
     "name": "stdout",
     "output_type": "stream",
     "text": [
      "[('Alice', 25, 1.68) ('Bob', 30, 1.75) ('Charlie', 28, 1.8 )]\n"
     ]
    }
   ],
   "source": [
    "### Définir un type de données structuré\n",
    "notre_dtype = [('Nom', 'U10'), ('Âge', 'i4'), ('Taille', 'f4')]\n",
    "\n",
    "### Créer un tableau structuré\n",
    "data = np.array([('Alice', 25, 1.68), ('Bob', 30, 1.75), ('Charlie', 28, 1.80)], dtype = notre_dtype)\n",
    "\n",
    "print(data)"
   ]
  },
  {
   "cell_type": "markdown",
   "metadata": {},
   "source": [
    "Les tableaux structurés facilitent l’import/export de données avec des fichiers binaires, CSV ou des bases de données SQL.\n",
    "\n",
    "Nous pouvons également utiliser des dictionnaires pour initialiser les types de tableaux structurés."
   ]
  },
  {
   "cell_type": "code",
   "execution_count": 21,
   "metadata": {},
   "outputs": [
    {
     "data": {
      "text/plain": [
       "array([('Alice', 25, 1.68), ('Bob', 30, 1.75), ('Charlie', 28, 1.8 )],\n",
       "      dtype=[('Nom', '<U10'), ('Âge', '<i4'), ('Taille', '<f4')])"
      ]
     },
     "execution_count": 21,
     "metadata": {},
     "output_type": "execute_result"
    }
   ],
   "source": [
    "dtype_dict = {\n",
    "    'Nom': 'U10',\n",
    "    'Âge': 'i4',   \n",
    "    'Taille': 'f4' \n",
    "}\n",
    "\n",
    "### Convertir le dictionnaire en liste de tuples pour dtype\n",
    "notre_dtype = [(key, value) for key, value in dtype_dict.items()]\n",
    "\n",
    "data = np.array([('Alice', 25, 1.68), ('Bob', 30, 1.75), ('Charlie', 28, 1.80)], dtype = notre_dtype)\n",
    "data"
   ]
  },
  {
   "cell_type": "markdown",
   "metadata": {},
   "source": [
    "Indexation"
   ]
  },
  {
   "cell_type": "code",
   "execution_count": 22,
   "metadata": {},
   "outputs": [
    {
     "name": "stdout",
     "output_type": "stream",
     "text": [
      "[('Alice', 25, 1.68) ('Bob', 30, 1.75) ('Charlie', 28, 1.8 )]\n",
      "\n",
      "Colonne: ['Alice' 'Bob' 'Charlie']\n",
      "Ligne: ('Bob', 30, 1.75)\n",
      "Bob\n",
      "Bob\n",
      "\n",
      "Slicing: [('Bob', 30, 1.75)]\n",
      "[('Bob', 30, 1.75) ('Charlie', 28, 1.8 )]\n",
      "[('Charlie', 28, 1.8)]\n",
      "\n",
      "Triage\n",
      "[('Alice', 25, 1.68) ('Charlie', 28, 1.8 ) ('Bob', 30, 1.75)]\n",
      "[('Alice', 25, 1.68) ('Bob', 30, 1.75) ('Charlie', 28, 1.8 )]\n"
     ]
    }
   ],
   "source": [
    "print(data)\n",
    "\n",
    "### Accéder à une colonne entière\n",
    "print(\"\\nColonne: {}\".format(data['Nom']))\n",
    "\n",
    "### Accéder à une ligne entière\n",
    "print(\"Ligne: {}\".format(data[1]))\n",
    "\n",
    "### Champs specifiques\n",
    "print(data[1]['Nom'])\n",
    "print(data[1][0])\n",
    "\n",
    "print(\"\\nSlicing: {}\".format(data[1:2]))\n",
    "\n",
    "### Filtrage\n",
    "print(data[data['Âge'] > 25])\n",
    "print(data[data['Taille'] > 1.76])\n",
    "\n",
    "print(\"\\nTriage\")\n",
    "### Trier les données par âge\n",
    "sorted_data = np.sort(data, order='Âge')\n",
    "print(sorted_data)\n",
    "\n",
    "### Trier par plusieurs champs (par Âge puis par Taille)\n",
    "sorted_data = np.sort(data, order=['Taille', 'Âge'])\n",
    "print(sorted_data)"
   ]
  },
  {
   "cell_type": "markdown",
   "metadata": {},
   "source": [
    "Manipulation"
   ]
  },
  {
   "cell_type": "code",
   "execution_count": 23,
   "metadata": {},
   "outputs": [
    {
     "name": "stdout",
     "output_type": "stream",
     "text": [
      "[('Alice', 25, 1.68) ('Bob', 30, 1.8 ) ('Charlie', 28, 1.8 )]\n",
      "[('Alice', 25, 1.68) ('Bob', 29, 1.8 ) ('Charlie', 28, 1.8 )]\n",
      "Âge moyen : 27.333333333333332\n",
      "Taille maximale : 1.8\n"
     ]
    }
   ],
   "source": [
    "### Mettre à jour un champ dans une ligne\n",
    "data[1]['Taille'] = 1.80\n",
    "print(data)\n",
    "#### Mettre à jour plusieurs lignes en une seule opération\n",
    "data['Âge'][data['Âge'] > 28] = 29\n",
    "print(data)\n",
    "\n",
    "### Calculer la moyenne d'âge\n",
    "mean_age = np.mean(data['Âge'])\n",
    "print(\"Âge moyen :\", mean_age)\n",
    "\n",
    "### Trouver la taille maximale\n",
    "max_taille = np.max(data['Taille'])\n",
    "print(\"Taille maximale :\", max_taille)"
   ]
  },
  {
   "cell_type": "markdown",
   "metadata": {},
   "source": [
    "Bien que NumPy ne permette pas d'ajouter directement un champ à un tableau structuré, vous pouvez recréer un tableau structuré avec un champ supplémentaire."
   ]
  },
  {
   "cell_type": "code",
   "execution_count": 24,
   "metadata": {},
   "outputs": [
    {
     "name": "stdout",
     "output_type": "stream",
     "text": [
      "[('Alice', 25, 1.68, 65.) ('Bob', 29, 1.8 , 75.)\n",
      " ('Charlie', 28, 1.8 , 80.)]\n"
     ]
    }
   ],
   "source": [
    "new_dtype = data.dtype.descr + [('Poids', 'f4')]\n",
    "data_with_weight = np.zeros(data.shape, dtype = new_dtype)\n",
    "for name in data.dtype.names:\n",
    "    data_with_weight[name] = data[name]\n",
    "data_with_weight['Poids'] = [65.0, 75.0, 80.0]\n",
    "\n",
    "print(data_with_weight)"
   ]
  },
  {
   "cell_type": "markdown",
   "metadata": {},
   "source": [
    "Visualization"
   ]
  },
  {
   "cell_type": "code",
   "execution_count": 25,
   "metadata": {},
   "outputs": [
    {
     "data": {
      "image/png": "[encoded data removed]",
      "text/plain": [
       "<Figure size 800x600 with 1 Axes>"
      ]
     },
     "metadata": {},
     "output_type": "display_data"
    }
   ],
   "source": [
    "heights = data_with_weight['Taille']\n",
    "weights = data_with_weight['Poids']\n",
    "names = data_with_weight['Nom']\n",
    "\n",
    "plt.figure(figsize=(8, 6))\n",
    "plt.scatter(heights, weights, color='pink', s=100, label='Individuals')\n",
    "\n",
    "### Annotation pour chaque point\n",
    "for i, name in enumerate(names):\n",
    "    plt.annotate(name, (heights[i], weights[i]), textcoords=\"offset points\", xytext=(5, 5))\n",
    "\n",
    "### Customization\n",
    "plt.title(\"Taille et Poids des Individus\")\n",
    "plt.xlabel(\"Taille (m)\")\n",
    "plt.ylabel(\"Poids (kg)\")\n",
    "plt.xlim(1.50, 2.10)\n",
    "plt.ylim(45, 110)\n",
    "plt.legend()\n",
    "\n",
    "plt.show()"
   ]
  },
  {
   "cell_type": "markdown",
   "metadata": {},
   "source": [
    "Exercise\n",
    "\n",
    "En suivant l'exemple ci-dessus, créez un tableau structuré contenant des 5 voitures et les propriétés suivantes : Marque, Année de production et Prix.\n",
    "Visualisez-les dans un nuage de points matplotlib en fonction de l'année de production et du prix, en annotant avec le nom de la marque."
   ]
  },
  {
   "cell_type": "code",
   "execution_count": null,
   "metadata": {},
   "outputs": [],
   "source": []
  },
  {
   "cell_type": "markdown",
   "metadata": {},
   "source": [
    "##### Python **statistics** module\n",
    "\n",
    "Python dispose d'un module intégré que vous pouvez utiliser pour calculer des statistiques mathématiques à partir de données numériques.\n",
    "Le module de statistiques était nouveau dans Python 3.4."
   ]
  },
  {
   "cell_type": "code",
   "execution_count": 26,
   "metadata": {},
   "outputs": [
    {
     "name": "stdout",
     "output_type": "stream",
     "text": [
      "200\n",
      "Moyenne:\n",
      "statistics.mean : 48.52\n",
      "\n",
      "Geometric Mean: 36.27923857695716\n",
      "\n",
      "Mode: 24\n",
      "\n",
      "Median:\n",
      "statistics.median : 47.0\n",
      "\n",
      "Variance:\n",
      "statistics.variance : 846.652864321608\n",
      "\n",
      "écart-type:\n",
      "statistics.stdev : 29.097299948991967\n",
      "\n",
      "Minimum:\n",
      "min : 1\n",
      "\n",
      "Maximum:\n",
      "max : 100\n",
      "\n"
     ]
    }
   ],
   "source": [
    "import random\n",
    "import statistics\n",
    "\n",
    "random.seed(22)  #### Set seed for reproducibility\n",
    "n = 200\n",
    "arr = [random.randint(1, 100) for _ in range(n)]\n",
    "print(len(arr))\n",
    "\n",
    "print(\"Moyenne:\")\n",
    "print(\"statistics.mean :\", statistics.mean(arr))\n",
    "print()\n",
    "\n",
    "print(\"Geometric Mean:\", statistics.geometric_mean(arr))\n",
    "print()\n",
    "\n",
    "print(\"Mode:\", statistics.mode(arr))\n",
    "print()\n",
    "\n",
    "print(\"Median:\")\n",
    "print(\"statistics.median :\", statistics.median(arr))\n",
    "print()\n",
    "\n",
    "print(\"Variance:\")\n",
    "print(\"statistics.variance :\", statistics.variance(arr))\n",
    "print()\n",
    "\n",
    "print(\"écart-type:\")\n",
    "print(\"statistics.stdev :\", statistics.stdev(arr))\n",
    "print()\n",
    "\n",
    "print(\"Minimum:\")\n",
    "print(\"min :\", min(arr))\n",
    "print()\n",
    "\n",
    "print(\"Maximum:\")\n",
    "print(\"max :\", max(arr))\n",
    "print()\n"
   ]
  },
  {
   "cell_type": "markdown",
   "metadata": {},
   "source": [
    "##### Calculs Accélérés avec JAX\n",
    "\n",
    "Dans le domaine de l’analyse de données et du calcul scientifique, gérer efficacement des tableaux structurés et tirer parti de la puissance des GPU est essentiel pour optimiser les performances. JAX, une bibliothèque Python moderne, se distingue en combinant les capacités de manipulation de tableaux de NumPy avec des fonctionnalités avancées comme la vectorisation automatique, la différenciation automatique et l'exécution accélérée sur GPU."
   ]
  },
  {
   "cell_type": "code",
   "execution_count": 32,
   "metadata": {},
   "outputs": [
    {
     "name": "stdout",
     "output_type": "stream",
     "text": [
      "Temps (NumPy): 0.0111 secondes\n",
      "Temps (JAX): 0.0082 secondes\n",
      "249.8490171417288\n",
      "249.84898\n"
     ]
    }
   ],
   "source": [
    "#### Benchmark JAX et Numpy\n",
    "\n",
    "import jax.numpy as jnp\n",
    "import time\n",
    "\n",
    "### Dimensions des matrices\n",
    "size = 1000\n",
    "\n",
    "### Création des matrices aléatoires\n",
    "matrix_a_np = np.random.rand(size, size)\n",
    "matrix_b_np = np.random.rand(size, size)\n",
    "\n",
    "matrix_a_jax = jnp.array(matrix_a_np)\n",
    "matrix_b_jax = jnp.array(matrix_b_np)\n",
    "\n",
    "#### Fonction de multiplication avec mesure de temps\n",
    "def measure_time(func, *args, library_name=\"\"):\n",
    "    start_time = time.time()\n",
    "    result = func(*args)\n",
    "    end_time = time.time()\n",
    "    print(f\"Temps ({library_name}): {end_time - start_time:.4f} secondes\")\n",
    "    return result\n",
    "\n",
    "### Multiplication avec NumPy\n",
    "result_np = measure_time(np.dot, matrix_a_np, matrix_b_np, library_name=\"NumPy\")\n",
    "\n",
    "### Multiplication avec JAX\n",
    "result_jax = measure_time(jnp.dot, matrix_a_jax, matrix_b_jax, library_name=\"JAX\")\n",
    "\n",
    "\n",
    "print(np.mean(result_np))\n",
    "print(np.mean(result_jax))"
   ]
  }
 ],
 "metadata": {
  "kernelspec": {
   "display_name": "Python 3",
   "language": "python",
   "name": "python3"
  },
  "language_info": {
   "codemirror_mode": {
    "name": "ipython",
    "version": 3
   },
   "file_extension": ".py",
   "mimetype": "text/x-python",
   "name": "python",
   "nbconvert_exporter": "python",
   "pygments_lexer": "ipython3",
   "version": "3.12.3"
  }
 },
 "nbformat": 4,
 "nbformat_minor": 2
}

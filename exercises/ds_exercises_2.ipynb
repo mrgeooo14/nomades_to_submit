{
 "cells": [
  {
   "cell_type": "markdown",
   "metadata": {},
   "source": [
    "##### Exercise 1 : Manipulation de tableaux NumPy\n"
   ]
  },
  {
   "cell_type": "code",
   "execution_count": 9,
   "metadata": {},
   "outputs": [],
   "source": [
    "import numpy as np\n",
    "\n",
    "#### Définition de la structure du tableau avec des champs spécifiques\n",
    "dtype_etudiants = np.dtype([\n",
    "    ('ID', 'i4'),       #### Identifiant de l'étudiant\n",
    "    ('Nom', 'U20'),     #### Nom de l'étudiant\n",
    "    ('Moyenne', 'f4')   #### Moyenne de l'étudiant\n",
    "])\n",
    "\n",
    "#### Création du tableau avec trois valeurs\n",
    "etudiants = np.array([\n",
    "    (1, 'Alicia', 16.5),\n",
    "    (2, 'Dea', 14.2),\n",
    "    (3, 'Vanessa', 17.8)\n",
    "], dtype=dtype_etudiants)\n"
   ]
  },
  {
   "cell_type": "code",
   "execution_count": null,
   "metadata": {},
   "outputs": [],
   "source": [
    "#### Affichage de tous les noms des étudiants\n",
    "print(\"Noms des étudiants:\", etudiants['Nom'])\n",
    "\n",
    "#### Sélection des étudiants ayant une moyenne > 15\n",
    "etudiants_sup15 = etudiants[etudiants['Moyenne'] > 15]\n",
    "print(\"Étudiants avec moyenne > 15:\", etudiants_sup15)\n",
    "\n",
    "#### Tri du tableau par moyenne décroissante\n",
    "etudiants_trie = np.sort(etudiants, order='Moyenne')[::-1]\n",
    "print(\"Étudiants triés par moyenne décroissante:\", etudiants_trie)"
   ]
  },
  {
   "cell_type": "markdown",
   "metadata": {},
   "source": [
    "Exercise 2 - Medical Dataset"
   ]
  },
  {
   "cell_type": "code",
   "execution_count": null,
   "metadata": {},
   "outputs": [],
   "source": [
    "import pandas as pd\n",
    "import matplotlib.pyplot as plt\n",
    "\n",
    "df = pd.read_csv(\"../data/medical_toy_data.csv\")\n",
    "df.head()"
   ]
  },
  {
   "cell_type": "code",
   "execution_count": null,
   "metadata": {},
   "outputs": [],
   "source": [
    "plt.rcParams['axes.facecolor'] = 'lightgray'\n",
    "\n",
    "#### 1. Création d'un histogramme des âges\n",
    "df['Age'].hist(bins = 20, edgecolor = 'black', color = 'teal') #### Directement avec df.plot() ou df.hist()\n",
    "plt.xlabel(\"Age\")\n",
    "plt.ylabel(\"Nombre de patients\")\n",
    "plt.title(\"Répartition des âges des patients\")\n",
    "plt.grid(False)\n",
    "plt.xlim(0, 100)\n",
    "plt.show()"
   ]
  },
  {
   "cell_type": "code",
   "execution_count": null,
   "metadata": {},
   "outputs": [],
   "source": [
    "#### 2. Calcul des statistiques sur l'âge\n",
    "age_moyen = df['Age'].mean()\n",
    "age_median = df['Age'].median()\n",
    "age_ecart_type = df['Age'].std()\n",
    "print(\"Age Moyen: {:.2f} | Age Median: {:.2f} | Écart-type: {:.2f}\".format(age_moyen, age_median, age_ecart_type))"
   ]
  },
  {
   "cell_type": "code",
   "execution_count": null,
   "metadata": {},
   "outputs": [],
   "source": [
    "#### Compute Correlation\n",
    "normalized_bmi = df['BMI'].dropna() / np.sqrt(np.sum(df['BMI'].dropna()**2))\n",
    "normalized_blood = df['Blood_Pressure'] / np.sqrt(np.sum(df['Blood_Pressure']**2))\n",
    "print('Corr: {}'.format(np.correlate(normalized_bmi, normalized_blood)))\n",
    "\n",
    "#### 3. Affichage d'un scatter plot entre BMI et pression artérielle\n",
    "df.plot.scatter(y = 'BMI', x ='Blood_Pressure', alpha = 0.8, color = 'teal', edgecolors = 'black', marker = '*', s = 150)\n",
    "plt.xlabel(\"BMI\")\n",
    "plt.plot()\n",
    "plt.ylabel(\"Pression Artérielle\")\n",
    "plt.title(\"Corrélation entre BMI et Pression Artérielle\")\n",
    "plt.show()"
   ]
  },
  {
   "cell_type": "code",
   "execution_count": null,
   "metadata": {},
   "outputs": [],
   "source": [
    "##### 4. Détermination de la pression artérielle moyenne et maximale\n",
    "pression_moyenne = df['Blood_Pressure'].mean()\n",
    "pression_max = df['Blood_Pressure'].max()\n",
    "print('Pression Moyenne: {:.2f} | Pression Maximale: {:.2f}'.format(pression_moyenne, pression_max))"
   ]
  },
  {
   "cell_type": "code",
   "execution_count": null,
   "metadata": {},
   "outputs": [],
   "source": [
    "##### 5. Filtrage des patients de plus de 60 ans prenant un médicament\n",
    "patients_seniors_medicaments = df[(df['Age'] > 60) & (df['Medications'].dropna() != 'None')]\n",
    "print(\"Patients de plus de 60 ans sous médicament:\")\n",
    "print(patients_seniors_medicaments)\n",
    "patients_seniors_medicaments['Medications'].hist(color = 'teal', bins = 5)\n",
    "plt.title('Principaux médicaments pris par les personnes âgées')\n",
    "plt.show()"
   ]
  },
  {
   "cell_type": "code",
   "execution_count": null,
   "metadata": {},
   "outputs": [],
   "source": [
    "#### 6. Modification de l'indexation avec l'ID du patient\n",
    "df.set_index('Patient_ID', inplace = True) #### mettre une colonne comme index\n",
    "print(\"DataFrame avec ID du patient comme index:\")\n",
    "df.head()"
   ]
  },
  {
   "cell_type": "code",
   "execution_count": null,
   "metadata": {},
   "outputs": [],
   "source": [
    "##### 7. Création de la colonne 'Risque_Cardiovasculaire'\n",
    "df['Risque_Cardiovasculaire'] = np.where((df['Blood_Pressure'] > 140) & (df['Cholesterol'] == 'High'), 'Élevé', 'Faible')\n",
    "print(\"Ajout de la colonne Risque_Cardiovasculaire:\")\n",
    "df[['Blood_Pressure', 'Cholesterol', 'Risque_Cardiovasculaire']].head(10)"
   ]
  },
  {
   "cell_type": "code",
   "execution_count": null,
   "metadata": {},
   "outputs": [],
   "source": [
    "##### 8. Remplacement des valeurs 'None' par 'Healthy' dans la colonne condition médicale\n",
    "df['Condition'].fillna('Healthy :)')\n",
    "print(\"Mise à jour des conditions médicales:\")\n",
    "print(df['Condition'].value_counts())\n",
    "df.head(10)"
   ]
  }
 ],
 "metadata": {
  "kernelspec": {
   "display_name": "Python 3",
   "language": "python",
   "name": "python3"
  },
  "language_info": {
   "codemirror_mode": {
    "name": "ipython",
    "version": 3
   },
   "file_extension": ".py",
   "mimetype": "text/x-python",
   "name": "python",
   "nbconvert_exporter": "python",
   "pygments_lexer": "ipython3",
   "version": "3.12.3"
  }
 },
 "nbformat": 4,
 "nbformat_minor": 2
}

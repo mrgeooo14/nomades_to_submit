{
 "cells": [
  {
   "cell_type": "markdown",
   "metadata": {},
   "source": [
    "#### Pandas\n",
    "\n",
    "Pandas est une bibliothèque pour le traitement et l'analyse de données en Python. Son nom vient de Panel Data et met l'accent sur sa capacité à gérer efficacement des données tabulaires ou multidimensionnelles. Pandas offre une large gamme d'outils qui simplifient la manipulation, la visualisation et l'analyse des données.\n",
    "\n",
    "Genis Skura - Janvier 2025\n",
    "\n",
    "**DataFrame**  Le DataFrame est la structure phare de Pandas. C'est une structure de données bidimensionnelle, semblable à une feuille Excel ou une table SQL, qui contient des données organisées en lignes et colonnes."
   ]
  },
  {
   "cell_type": "code",
   "execution_count": 58,
   "metadata": {},
   "outputs": [
    {
     "data": {
      "text/html": [
       "<div>\n",
       "<style scoped>\n",
       "    .dataframe tbody tr th:only-of-type {\n",
       "        vertical-align: middle;\n",
       "    }\n",
       "\n",
       "    .dataframe tbody tr th {\n",
       "        vertical-align: top;\n",
       "    }\n",
       "\n",
       "    .dataframe thead th {\n",
       "        text-align: right;\n",
       "    }\n",
       "</style>\n",
       "<table border=\"1\" class=\"dataframe\">\n",
       "  <thead>\n",
       "    <tr style=\"text-align: right;\">\n",
       "      <th></th>\n",
       "      <th>0</th>\n",
       "      <th>1</th>\n",
       "      <th>2</th>\n",
       "    </tr>\n",
       "  </thead>\n",
       "  <tbody>\n",
       "    <tr>\n",
       "      <th>0</th>\n",
       "      <td>1</td>\n",
       "      <td>2</td>\n",
       "      <td>3</td>\n",
       "    </tr>\n",
       "    <tr>\n",
       "      <th>1</th>\n",
       "      <td>4</td>\n",
       "      <td>5</td>\n",
       "      <td>6</td>\n",
       "    </tr>\n",
       "    <tr>\n",
       "      <th>2</th>\n",
       "      <td>7</td>\n",
       "      <td>8</td>\n",
       "      <td>9</td>\n",
       "    </tr>\n",
       "  </tbody>\n",
       "</table>\n",
       "</div>"
      ],
      "text/plain": [
       "   0  1  2\n",
       "0  1  2  3\n",
       "1  4  5  6\n",
       "2  7  8  9"
      ]
     },
     "execution_count": 58,
     "metadata": {},
     "output_type": "execute_result"
    }
   ],
   "source": [
    "import pandas as pd\n",
    "import numpy as np\n",
    "import matplotlib.pyplot as plt\n",
    "\n",
    "df = pd.DataFrame(np.array([[1, 2, 3], [4, 5, 6], [7, 8, 9]]))\n",
    "df"
   ]
  },
  {
   "cell_type": "markdown",
   "metadata": {},
   "source": [
    "Différentes façons de déclarer un DataFrame"
   ]
  },
  {
   "cell_type": "code",
   "execution_count": 59,
   "metadata": {},
   "outputs": [
    {
     "data": {
      "text/html": [
       "<div>\n",
       "<style scoped>\n",
       "    .dataframe tbody tr th:only-of-type {\n",
       "        vertical-align: middle;\n",
       "    }\n",
       "\n",
       "    .dataframe tbody tr th {\n",
       "        vertical-align: top;\n",
       "    }\n",
       "\n",
       "    .dataframe thead th {\n",
       "        text-align: right;\n",
       "    }\n",
       "</style>\n",
       "<table border=\"1\" class=\"dataframe\">\n",
       "  <thead>\n",
       "    <tr style=\"text-align: right;\">\n",
       "      <th></th>\n",
       "      <th>0</th>\n",
       "      <th>1</th>\n",
       "      <th>2</th>\n",
       "    </tr>\n",
       "  </thead>\n",
       "  <tbody>\n",
       "    <tr>\n",
       "      <th>0</th>\n",
       "      <td>1</td>\n",
       "      <td>2</td>\n",
       "      <td>3</td>\n",
       "    </tr>\n",
       "    <tr>\n",
       "      <th>1</th>\n",
       "      <td>4</td>\n",
       "      <td>5</td>\n",
       "      <td>6</td>\n",
       "    </tr>\n",
       "    <tr>\n",
       "      <th>2</th>\n",
       "      <td>7</td>\n",
       "      <td>8</td>\n",
       "      <td>9</td>\n",
       "    </tr>\n",
       "  </tbody>\n",
       "</table>\n",
       "</div>"
      ],
      "text/plain": [
       "   0  1  2\n",
       "0  1  2  3\n",
       "1  4  5  6\n",
       "2  7  8  9"
      ]
     },
     "execution_count": 59,
     "metadata": {},
     "output_type": "execute_result"
    }
   ],
   "source": [
    "##### À partir d'une liste de dictionnaires :\n",
    "data = {\n",
    "    'Nom': ['Alice', 'Bob', 'Charlie'],\n",
    "    'Age': [25, 30, 35],\n",
    "    'Ville': ['Paris', 'Lyon', 'Marseille']\n",
    "}\n",
    "# print(type(data))\n",
    "# df = pd.DataFrame(data)\n",
    "# df\n",
    "\n",
    "##### À partir d'une liste de dictionnaires :\n",
    "# data = [\n",
    "#     {'Nom': 'Alice', 'Age': 25, 'Ville': 'Paris'},\n",
    "#     {'Nom': 'Bob', 'Age': 30, 'Ville': 'Lyon'},\n",
    "#     {'Nom': 'Charlie', 'Age': 35, 'Ville': 'Marseille'}\n",
    "# ]\n",
    "\n",
    "# df = pd.DataFrame(data)\n",
    "# print(df)\n",
    "df\n",
    "\n",
    "\n",
    "#### À partir d'un tableau NumPy"
   ]
  },
  {
   "cell_type": "markdown",
   "metadata": {},
   "source": [
    "Exercise\n",
    "\n",
    "Créez un DataFrame de Pandas rempli de 36 nombres entiers aléatoires (entre 20 et 30) séparés en 3 colonnes.\n",
    "En utilisant uniquement des tableaux Numpy"
   ]
  },
  {
   "cell_type": "code",
   "execution_count": 60,
   "metadata": {},
   "outputs": [
    {
     "data": {
      "text/html": [
       "<div>\n",
       "<style scoped>\n",
       "    .dataframe tbody tr th:only-of-type {\n",
       "        vertical-align: middle;\n",
       "    }\n",
       "\n",
       "    .dataframe tbody tr th {\n",
       "        vertical-align: top;\n",
       "    }\n",
       "\n",
       "    .dataframe thead th {\n",
       "        text-align: right;\n",
       "    }\n",
       "</style>\n",
       "<table border=\"1\" class=\"dataframe\">\n",
       "  <thead>\n",
       "    <tr style=\"text-align: right;\">\n",
       "      <th></th>\n",
       "      <th>0</th>\n",
       "      <th>1</th>\n",
       "      <th>2</th>\n",
       "    </tr>\n",
       "  </thead>\n",
       "  <tbody>\n",
       "    <tr>\n",
       "      <th>0</th>\n",
       "      <td>29</td>\n",
       "      <td>22</td>\n",
       "      <td>29</td>\n",
       "    </tr>\n",
       "    <tr>\n",
       "      <th>1</th>\n",
       "      <td>21</td>\n",
       "      <td>21</td>\n",
       "      <td>27</td>\n",
       "    </tr>\n",
       "    <tr>\n",
       "      <th>2</th>\n",
       "      <td>25</td>\n",
       "      <td>24</td>\n",
       "      <td>28</td>\n",
       "    </tr>\n",
       "    <tr>\n",
       "      <th>3</th>\n",
       "      <td>20</td>\n",
       "      <td>21</td>\n",
       "      <td>26</td>\n",
       "    </tr>\n",
       "    <tr>\n",
       "      <th>4</th>\n",
       "      <td>27</td>\n",
       "      <td>27</td>\n",
       "      <td>23</td>\n",
       "    </tr>\n",
       "    <tr>\n",
       "      <th>5</th>\n",
       "      <td>26</td>\n",
       "      <td>22</td>\n",
       "      <td>24</td>\n",
       "    </tr>\n",
       "    <tr>\n",
       "      <th>6</th>\n",
       "      <td>29</td>\n",
       "      <td>22</td>\n",
       "      <td>22</td>\n",
       "    </tr>\n",
       "    <tr>\n",
       "      <th>7</th>\n",
       "      <td>22</td>\n",
       "      <td>27</td>\n",
       "      <td>23</td>\n",
       "    </tr>\n",
       "    <tr>\n",
       "      <th>8</th>\n",
       "      <td>27</td>\n",
       "      <td>26</td>\n",
       "      <td>21</td>\n",
       "    </tr>\n",
       "    <tr>\n",
       "      <th>9</th>\n",
       "      <td>28</td>\n",
       "      <td>23</td>\n",
       "      <td>29</td>\n",
       "    </tr>\n",
       "    <tr>\n",
       "      <th>10</th>\n",
       "      <td>22</td>\n",
       "      <td>20</td>\n",
       "      <td>21</td>\n",
       "    </tr>\n",
       "    <tr>\n",
       "      <th>11</th>\n",
       "      <td>28</td>\n",
       "      <td>23</td>\n",
       "      <td>21</td>\n",
       "    </tr>\n",
       "  </tbody>\n",
       "</table>\n",
       "</div>"
      ],
      "text/plain": [
       "     0   1   2\n",
       "0   29  22  29\n",
       "1   21  21  27\n",
       "2   25  24  28\n",
       "3   20  21  26\n",
       "4   27  27  23\n",
       "5   26  22  24\n",
       "6   29  22  22\n",
       "7   22  27  23\n",
       "8   27  26  21\n",
       "9   28  23  29\n",
       "10  22  20  21\n",
       "11  28  23  21"
      ]
     },
     "execution_count": 60,
     "metadata": {},
     "output_type": "execute_result"
    }
   ],
   "source": [
    "df = pd.DataFrame(np.random.randint(20, 30, 36).reshape(12, 3))\n",
    "df"
   ]
  },
  {
   "cell_type": "markdown",
   "metadata": {},
   "source": [
    "Chaque colonne d'un DataFrame est une **Series**. Elle est une structure de données unidimensionnelle de Pandas, semblable à une liste ou un tableau unidimensionnel de NumPy."
   ]
  },
  {
   "cell_type": "code",
   "execution_count": 61,
   "metadata": {},
   "outputs": [
    {
     "data": {
      "text/plain": [
       "pandas.core.series.Series"
      ]
     },
     "execution_count": 61,
     "metadata": {},
     "output_type": "execute_result"
    }
   ],
   "source": [
    "#### type, name, info, is_unique\n",
    "our_series = df[1]\n",
    "type(our_series)"
   ]
  },
  {
   "cell_type": "code",
   "execution_count": 62,
   "metadata": {},
   "outputs": [
    {
     "name": "stdout",
     "output_type": "stream",
     "text": [
      "27\n",
      "20\n",
      "23.166666666666668\n",
      "22.5\n"
     ]
    }
   ],
   "source": [
    "### Combiner Numpy et Pandas comme des boîtes de lego\n",
    "\n",
    "### valeur maximale\n",
    "print(our_series.max())\n",
    "\n",
    "print(our_series.min())\n",
    "\n",
    "print(our_series.mean())\n",
    "\n",
    "print(our_series.median())"
   ]
  },
  {
   "cell_type": "markdown",
   "metadata": {},
   "source": [
    "Histogram"
   ]
  },
  {
   "cell_type": "code",
   "execution_count": 63,
   "metadata": {},
   "outputs": [
    {
     "data": {
      "image/png": "[encoded data removed]",
      "text/plain": [
       "<Figure size 640x480 with 1 Axes>"
      ]
     },
     "metadata": {},
     "output_type": "display_data"
    }
   ],
   "source": [
    "all_values = df.values.flatten()\n",
    "plt.hist(all_values, color='teal', bins = 25)\n",
    "plt.title('Histogramme de toutes les valeurs')\n",
    "plt.show()"
   ]
  },
  {
   "cell_type": "markdown",
   "metadata": {},
   "source": [
    "Fonctions très utiles dans Pandas\n",
    "Pandas propose de nombreuses fonctions pour explorer, manipuler et analyser des données\n",
    "\n",
    "**describe()** : Résumé statistique\n",
    "La fonction describe() génère des statistiques descriptives pour les colonnes numériques"
   ]
  },
  {
   "cell_type": "code",
   "execution_count": 64,
   "metadata": {},
   "outputs": [
    {
     "data": {
      "text/plain": [
       "count    12.000000\n",
       "mean     24.500000\n",
       "std       3.147871\n",
       "min      21.000000\n",
       "25%      21.750000\n",
       "50%      23.500000\n",
       "75%      27.250000\n",
       "max      29.000000\n",
       "Name: 2, dtype: float64"
      ]
     },
     "execution_count": 64,
     "metadata": {},
     "output_type": "execute_result"
    }
   ],
   "source": [
    "df[2].describe()"
   ]
  },
  {
   "cell_type": "markdown",
   "metadata": {},
   "source": [
    "**head()** : Afficher les premières lignes d'un DataFrame ou d'une Series\n",
    "La fonction head() permet d'afficher les premières lignes d'un DataFrame ou d'une Series. Par défaut, elle affiche les 5 premières lignes, mais on peut spécifier un autre nombre."
   ]
  },
  {
   "cell_type": "code",
   "execution_count": 65,
   "metadata": {},
   "outputs": [
    {
     "data": {
      "text/html": [
       "<div>\n",
       "<style scoped>\n",
       "    .dataframe tbody tr th:only-of-type {\n",
       "        vertical-align: middle;\n",
       "    }\n",
       "\n",
       "    .dataframe tbody tr th {\n",
       "        vertical-align: top;\n",
       "    }\n",
       "\n",
       "    .dataframe thead th {\n",
       "        text-align: right;\n",
       "    }\n",
       "</style>\n",
       "<table border=\"1\" class=\"dataframe\">\n",
       "  <thead>\n",
       "    <tr style=\"text-align: right;\">\n",
       "      <th></th>\n",
       "      <th>0</th>\n",
       "      <th>1</th>\n",
       "      <th>2</th>\n",
       "    </tr>\n",
       "  </thead>\n",
       "  <tbody>\n",
       "    <tr>\n",
       "      <th>0</th>\n",
       "      <td>29</td>\n",
       "      <td>22</td>\n",
       "      <td>29</td>\n",
       "    </tr>\n",
       "  </tbody>\n",
       "</table>\n",
       "</div>"
      ],
      "text/plain": [
       "    0   1   2\n",
       "0  29  22  29"
      ]
     },
     "execution_count": 65,
     "metadata": {},
     "output_type": "execute_result"
    }
   ],
   "source": [
    "df.head(1)"
   ]
  },
  {
   "cell_type": "markdown",
   "metadata": {},
   "source": [
    "**tail()** : Afficher les dernières lignes d'un DataFrame ou d'une Series\n",
    "Similaire à head(), la fonction tail() affiche les dernières lignes d'un DataFrame ou d'une Series. Utile pour vérifier les dernières valeurs d'un ensemble de données."
   ]
  },
  {
   "cell_type": "code",
   "execution_count": 66,
   "metadata": {},
   "outputs": [
    {
     "data": {
      "text/html": [
       "<div>\n",
       "<style scoped>\n",
       "    .dataframe tbody tr th:only-of-type {\n",
       "        vertical-align: middle;\n",
       "    }\n",
       "\n",
       "    .dataframe tbody tr th {\n",
       "        vertical-align: top;\n",
       "    }\n",
       "\n",
       "    .dataframe thead th {\n",
       "        text-align: right;\n",
       "    }\n",
       "</style>\n",
       "<table border=\"1\" class=\"dataframe\">\n",
       "  <thead>\n",
       "    <tr style=\"text-align: right;\">\n",
       "      <th></th>\n",
       "      <th>0</th>\n",
       "      <th>1</th>\n",
       "      <th>2</th>\n",
       "    </tr>\n",
       "  </thead>\n",
       "  <tbody>\n",
       "    <tr>\n",
       "      <th>7</th>\n",
       "      <td>22</td>\n",
       "      <td>27</td>\n",
       "      <td>23</td>\n",
       "    </tr>\n",
       "    <tr>\n",
       "      <th>8</th>\n",
       "      <td>27</td>\n",
       "      <td>26</td>\n",
       "      <td>21</td>\n",
       "    </tr>\n",
       "    <tr>\n",
       "      <th>9</th>\n",
       "      <td>28</td>\n",
       "      <td>23</td>\n",
       "      <td>29</td>\n",
       "    </tr>\n",
       "    <tr>\n",
       "      <th>10</th>\n",
       "      <td>22</td>\n",
       "      <td>20</td>\n",
       "      <td>21</td>\n",
       "    </tr>\n",
       "    <tr>\n",
       "      <th>11</th>\n",
       "      <td>28</td>\n",
       "      <td>23</td>\n",
       "      <td>21</td>\n",
       "    </tr>\n",
       "  </tbody>\n",
       "</table>\n",
       "</div>"
      ],
      "text/plain": [
       "     0   1   2\n",
       "7   22  27  23\n",
       "8   27  26  21\n",
       "9   28  23  29\n",
       "10  22  20  21\n",
       "11  28  23  21"
      ]
     },
     "execution_count": 66,
     "metadata": {},
     "output_type": "execute_result"
    }
   ],
   "source": [
    "df.tail()"
   ]
  },
  {
   "cell_type": "markdown",
   "metadata": {},
   "source": [
    "**info()** : Obtenir des informations générales sur un DataFrame\n",
    "La fonction info() fournit un résumé de la structure d'un DataFrame, y compris :"
   ]
  },
  {
   "cell_type": "code",
   "execution_count": 67,
   "metadata": {},
   "outputs": [
    {
     "name": "stdout",
     "output_type": "stream",
     "text": [
      "<class 'pandas.core.frame.DataFrame'>\n",
      "RangeIndex: 12 entries, 0 to 11\n",
      "Data columns (total 3 columns):\n",
      " #   Column  Non-Null Count  Dtype\n",
      "---  ------  --------------  -----\n",
      " 0   0       12 non-null     int32\n",
      " 1   1       12 non-null     int32\n",
      " 2   2       12 non-null     int32\n",
      "dtypes: int32(3)\n",
      "memory usage: 276.0 bytes\n"
     ]
    }
   ],
   "source": [
    "\n",
    "df.info()"
   ]
  },
  {
   "cell_type": "markdown",
   "metadata": {},
   "source": [
    "**value_counts()** : Compter les occurrences dans une colonne ou une Series\n",
    "Cette fonction permet de compter la fréquence d'apparition de chaque valeur unique dans une colonne ou une Series. Très utile pour explorer des données catégorielles."
   ]
  },
  {
   "cell_type": "markdown",
   "metadata": {},
   "source": [
    "**dtypes** : Identifier les types de données des colonnes\n",
    "L'attribut dtypes permet d'afficher les types de données (data types) de chaque colonne dans un DataFrame."
   ]
  },
  {
   "cell_type": "code",
   "execution_count": 69,
   "metadata": {},
   "outputs": [
    {
     "data": {
      "text/plain": [
       "0    int32\n",
       "1    int32\n",
       "2    int32\n",
       "dtype: object"
      ]
     },
     "execution_count": 69,
     "metadata": {},
     "output_type": "execute_result"
    }
   ],
   "source": [
    "df.dtypes"
   ]
  },
  {
   "cell_type": "markdown",
   "metadata": {},
   "source": [
    "Reportez-vous au lien suivant pour l'intégralité des attributs Pandas DataFrame: https://pandas.pydata.org/docs/reference/frame.html"
   ]
  },
  {
   "cell_type": "markdown",
   "metadata": {},
   "source": [
    "Pandas supporte divers formats de fichiers (CSV, Excel, Parquet, JSON, etc.), ce qui permet d'importer et d'exporter des données facilement.\n",
    "\n",
    "1) CSV: Texte brut, colonnes séparées par des délimiteurs (comme ,). Rapide à lire et écrire, mais coûteux en mémoire. **Support universel** dans presque tous les outils\n",
    "2) Excel: Format binaire avec des feuilles multiples et moderement lourd. Utilisé principalement avec MS Office et logiciels compatibles.\n",
    "3) Format binaire optimisé pour les grandes données et leger grâce à la compression. **Très rapide** et efficace en mémoire\n",
    "\n",
    "En utilisant de **pandas.read..()**"
   ]
  },
  {
   "cell_type": "code",
   "execution_count": 70,
   "metadata": {},
   "outputs": [
    {
     "data": {
      "text/html": [
       "<div>\n",
       "<style scoped>\n",
       "    .dataframe tbody tr th:only-of-type {\n",
       "        vertical-align: middle;\n",
       "    }\n",
       "\n",
       "    .dataframe tbody tr th {\n",
       "        vertical-align: top;\n",
       "    }\n",
       "\n",
       "    .dataframe thead th {\n",
       "        text-align: right;\n",
       "    }\n",
       "</style>\n",
       "<table border=\"1\" class=\"dataframe\">\n",
       "  <thead>\n",
       "    <tr style=\"text-align: right;\">\n",
       "      <th></th>\n",
       "      <th>constructorId</th>\n",
       "      <th>constructorRef</th>\n",
       "      <th>name</th>\n",
       "      <th>nationality</th>\n",
       "      <th>url</th>\n",
       "      <th>Unnamed: 5</th>\n",
       "    </tr>\n",
       "  </thead>\n",
       "  <tbody>\n",
       "    <tr>\n",
       "      <th>0</th>\n",
       "      <td>1</td>\n",
       "      <td>mclaren</td>\n",
       "      <td>McLaren</td>\n",
       "      <td>British</td>\n",
       "      <td>http://en.wikipedia.org/wiki/McLaren</td>\n",
       "      <td>NaN</td>\n",
       "    </tr>\n",
       "    <tr>\n",
       "      <th>1</th>\n",
       "      <td>2</td>\n",
       "      <td>bmw_sauber</td>\n",
       "      <td>BMW Sauber</td>\n",
       "      <td>German</td>\n",
       "      <td>http://en.wikipedia.org/wiki/BMW_Sauber</td>\n",
       "      <td>NaN</td>\n",
       "    </tr>\n",
       "    <tr>\n",
       "      <th>2</th>\n",
       "      <td>3</td>\n",
       "      <td>williams</td>\n",
       "      <td>Williams</td>\n",
       "      <td>British</td>\n",
       "      <td>http://en.wikipedia.org/wiki/Williams_Grand_Pr...</td>\n",
       "      <td>NaN</td>\n",
       "    </tr>\n",
       "    <tr>\n",
       "      <th>3</th>\n",
       "      <td>4</td>\n",
       "      <td>renault</td>\n",
       "      <td>Renault</td>\n",
       "      <td>French</td>\n",
       "      <td>http://en.wikipedia.org/wiki/Renault_F1</td>\n",
       "      <td>NaN</td>\n",
       "    </tr>\n",
       "    <tr>\n",
       "      <th>4</th>\n",
       "      <td>5</td>\n",
       "      <td>toro_rosso</td>\n",
       "      <td>Toro Rosso</td>\n",
       "      <td>Italian</td>\n",
       "      <td>http://en.wikipedia.org/wiki/Scuderia_Toro_Rosso</td>\n",
       "      <td>NaN</td>\n",
       "    </tr>\n",
       "    <tr>\n",
       "      <th>...</th>\n",
       "      <td>...</td>\n",
       "      <td>...</td>\n",
       "      <td>...</td>\n",
       "      <td>...</td>\n",
       "      <td>...</td>\n",
       "      <td>...</td>\n",
       "    </tr>\n",
       "    <tr>\n",
       "      <th>203</th>\n",
       "      <td>206</td>\n",
       "      <td>marussia</td>\n",
       "      <td>Marussia</td>\n",
       "      <td>Russian</td>\n",
       "      <td>http://en.wikipedia.org/wiki/Marussia_F1</td>\n",
       "      <td>NaN</td>\n",
       "    </tr>\n",
       "    <tr>\n",
       "      <th>204</th>\n",
       "      <td>207</td>\n",
       "      <td>caterham</td>\n",
       "      <td>Caterham</td>\n",
       "      <td>Malaysian</td>\n",
       "      <td>http://en.wikipedia.org/wiki/Caterham_F1</td>\n",
       "      <td>NaN</td>\n",
       "    </tr>\n",
       "    <tr>\n",
       "      <th>205</th>\n",
       "      <td>208</td>\n",
       "      <td>lotus_f1</td>\n",
       "      <td>Lotus F1</td>\n",
       "      <td>British</td>\n",
       "      <td>http://en.wikipedia.org/wiki/Lotus_F1</td>\n",
       "      <td>NaN</td>\n",
       "    </tr>\n",
       "    <tr>\n",
       "      <th>206</th>\n",
       "      <td>209</td>\n",
       "      <td>manor</td>\n",
       "      <td>Manor Marussia</td>\n",
       "      <td>British</td>\n",
       "      <td>http://en.wikipedia.org/wiki/Manor_Motorsport</td>\n",
       "      <td>NaN</td>\n",
       "    </tr>\n",
       "    <tr>\n",
       "      <th>207</th>\n",
       "      <td>210</td>\n",
       "      <td>haas</td>\n",
       "      <td>Haas F1 Team</td>\n",
       "      <td>American</td>\n",
       "      <td>http://en.wikipedia.org/wiki/Haas_F1_Team</td>\n",
       "      <td>NaN</td>\n",
       "    </tr>\n",
       "  </tbody>\n",
       "</table>\n",
       "<p>208 rows × 6 columns</p>\n",
       "</div>"
      ],
      "text/plain": [
       "     constructorId constructorRef            name nationality  \\\n",
       "0                1        mclaren         McLaren     British   \n",
       "1                2     bmw_sauber      BMW Sauber      German   \n",
       "2                3       williams        Williams     British   \n",
       "3                4        renault         Renault      French   \n",
       "4                5     toro_rosso      Toro Rosso     Italian   \n",
       "..             ...            ...             ...         ...   \n",
       "203            206       marussia        Marussia     Russian   \n",
       "204            207       caterham        Caterham   Malaysian   \n",
       "205            208       lotus_f1        Lotus F1     British   \n",
       "206            209          manor  Manor Marussia     British   \n",
       "207            210           haas    Haas F1 Team    American   \n",
       "\n",
       "                                                   url  Unnamed: 5  \n",
       "0                 http://en.wikipedia.org/wiki/McLaren         NaN  \n",
       "1              http://en.wikipedia.org/wiki/BMW_Sauber         NaN  \n",
       "2    http://en.wikipedia.org/wiki/Williams_Grand_Pr...         NaN  \n",
       "3              http://en.wikipedia.org/wiki/Renault_F1         NaN  \n",
       "4     http://en.wikipedia.org/wiki/Scuderia_Toro_Rosso         NaN  \n",
       "..                                                 ...         ...  \n",
       "203           http://en.wikipedia.org/wiki/Marussia_F1         NaN  \n",
       "204           http://en.wikipedia.org/wiki/Caterham_F1         NaN  \n",
       "205              http://en.wikipedia.org/wiki/Lotus_F1         NaN  \n",
       "206      http://en.wikipedia.org/wiki/Manor_Motorsport         NaN  \n",
       "207          http://en.wikipedia.org/wiki/Haas_F1_Team         NaN  \n",
       "\n",
       "[208 rows x 6 columns]"
      ]
     },
     "execution_count": 70,
     "metadata": {},
     "output_type": "execute_result"
    }
   ],
   "source": [
    "df = pd.read_csv('https://raw.githubusercontent.com/MainakRepositor/Datasets/refs/heads/master/F1/constructors.csv')\n",
    "df"
   ]
  },
  {
   "cell_type": "markdown",
   "metadata": {},
   "source": [
    "Exercise\n",
    "\n",
    "Après avoir chargé l'ensemble de données ci-dessus, utilisez les fonctions Pandas pour décrire et fournir des statistiques de base.\n",
    "Affichez ensuite un histogramme des différents types de vêtements (deuxieme colonne)."
   ]
  },
  {
   "cell_type": "code",
   "execution_count": 71,
   "metadata": {},
   "outputs": [
    {
     "data": {
      "image/png": "[encoded data removed]",
      "text/plain": [
       "<Figure size 2400x800 with 1 Axes>"
      ]
     },
     "metadata": {},
     "output_type": "display_data"
    }
   ],
   "source": [
    "plt.figure(figsize=(24, 8))\n",
    "plt.hist(df['nationality'], bins = 100, color = 'pink', orientation='horizontal')\n",
    "plt.show()"
   ]
  },
  {
   "cell_type": "markdown",
   "metadata": {},
   "source": [
    "Sélection\n",
    "\n",
    "Accéder à une colonne unique (en utilisant des crochets [])"
   ]
  },
  {
   "cell_type": "code",
   "execution_count": 73,
   "metadata": {},
   "outputs": [],
   "source": [
    "# df[['Day']][:4]\n",
    "### df.Day"
   ]
  },
  {
   "cell_type": "code",
   "execution_count": null,
   "metadata": {},
   "outputs": [],
   "source": [
    "df[['Day', 'Type']].head()"
   ]
  },
  {
   "cell_type": "markdown",
   "metadata": {},
   "source": [
    "Accès par **get** - il permet d’éviter les erreurs si la colonne n’existe pas (retourne None au lieu d’une exception)."
   ]
  },
  {
   "cell_type": "code",
   "execution_count": null,
   "metadata": {},
   "outputs": [],
   "source": [
    "col = df.get('Age')\n",
    "print(col)"
   ]
  },
  {
   "cell_type": "code",
   "execution_count": 15,
   "metadata": {},
   "outputs": [],
   "source": [
    "random = df.sample(2)"
   ]
  },
  {
   "cell_type": "markdown",
   "metadata": {},
   "source": [
    "Sélection de lignes\n",
    "\n",
    "**loc** et **iloc** sont deux méthodes très importantes dans Pandas pour sélectionner des données dans un DataFrame ou une Série, chacune ayant une approche différente.\n",
    "\n",
    "**loc** est utilisé pour sélectionner des données basées sur les étiquettes des lignes et des colonnes. Cela signifie que vous pouvez accéder à des données en utilisant les noms des index ou des colonnes."
   ]
  },
  {
   "cell_type": "code",
   "execution_count": null,
   "metadata": {},
   "outputs": [],
   "source": [
    "df"
   ]
  },
  {
   "cell_type": "code",
   "execution_count": null,
   "metadata": {},
   "outputs": [],
   "source": [
    "df.loc[3, 'Day']"
   ]
  },
  {
   "cell_type": "code",
   "execution_count": null,
   "metadata": {},
   "outputs": [],
   "source": [
    "a = np.arange(25).reshape(5, 5)\n",
    "print(a)\n",
    "test_df = pd.DataFrame(a, index = list(\"abcde\"), columns = list(\"FGHIJ\"))\n",
    "test_df"
   ]
  },
  {
   "cell_type": "code",
   "execution_count": 19,
   "metadata": {},
   "outputs": [],
   "source": [
    "test_df.loc['a'] = test_df.loc['a'] + 15"
   ]
  },
  {
   "cell_type": "code",
   "execution_count": null,
   "metadata": {},
   "outputs": [],
   "source": [
    "test_df.loc[['a', 'b', 'd'], 'H']"
   ]
  },
  {
   "cell_type": "markdown",
   "metadata": {},
   "source": [
    "**iloc** est utilisé pour sélectionner des données basées sur les indices numériques des lignes et des colonnes. Les positions commencent à 0."
   ]
  },
  {
   "cell_type": "code",
   "execution_count": null,
   "metadata": {},
   "outputs": [],
   "source": [
    "print(test_df.iloc[3])  ### Sélectionne la quatrième ligne (index 3)\n",
    "\n",
    "print()\n",
    "\n",
    "print(test_df.iloc[3, 1])  ### Sélectionne la cellule à l'intersection de la ligne 4 (index 3) et de la colonne 2 (index 1)\n",
    "\n",
    "print()\n",
    "\n",
    "print(test_df.iloc[::2])  ### Sélectionne une ligne sur deux"
   ]
  },
  {
   "cell_type": "markdown",
   "metadata": {},
   "source": [
    "Différence clé entre loc et iloc :\n"
   ]
  },
  {
   "cell_type": "code",
   "execution_count": 22,
   "metadata": {},
   "outputs": [],
   "source": [
    "lignes = df.shape[0]\n",
    "string_indeces = [\"nomades_{}\".format(i) for i in np.arange(lignes)]"
   ]
  },
  {
   "cell_type": "code",
   "execution_count": 23,
   "metadata": {},
   "outputs": [],
   "source": [
    "df.index = string_indeces"
   ]
  },
  {
   "cell_type": "markdown",
   "metadata": {},
   "source": [
    "###### boolean indexing, add and remove columns , where, query and two exercises."
   ]
  },
  {
   "cell_type": "markdown",
   "metadata": {},
   "source": [
    "Une autre opération courante consiste à utiliser des vecteurs booléens pour filtrer les données. \n",
    "\n",
    "Les opérateurs sont les suivants : **|** -> **or**, **&** -> **and**, et **~** -> **not**. Ils doivent être regroupés en utilisant des parenthèses"
   ]
  },
  {
   "cell_type": "code",
   "execution_count": null,
   "metadata": {},
   "outputs": [],
   "source": [
    "df[df['Units Sold'] > 30]"
   ]
  },
  {
   "cell_type": "markdown",
   "metadata": {},
   "source": [
    "Utilisation de conditions logiques combinées.\n",
    "\n",
    "Ici, on applique des opérations booléennes directement sur les colonnes du DataFrame pour construire une condition."
   ]
  },
  {
   "cell_type": "code",
   "execution_count": null,
   "metadata": {},
   "outputs": [],
   "source": [
    "df[(df['Units Sold'] > 30) & ~(df['Day'] == 'Sunday')]"
   ]
  },
  {
   "cell_type": "markdown",
   "metadata": {},
   "source": [
    "Création d'une liste de valeurs booléennes avec une compréhension de liste."
   ]
  },
  {
   "cell_type": "code",
   "execution_count": null,
   "metadata": {},
   "outputs": [],
   "source": [
    "df[[x.startswith('T') for x in df['Type']]]"
   ]
  },
  {
   "cell_type": "code",
   "execution_count": null,
   "metadata": {},
   "outputs": [],
   "source": [
    "df.loc[df['Type'] == 'Dress', 'Units Sold']"
   ]
  },
  {
   "cell_type": "markdown",
   "metadata": {},
   "source": [
    "Considérons la méthode **isin()** de Series, qui renvoie un vecteur booléen qui est vrai partout où les éléments Series existent dans la liste transmise. Cela vous permet de sélectionner les lignes où une ou plusieurs colonnes ont les valeurs que vous souhaitez :"
   ]
  },
  {
   "cell_type": "code",
   "execution_count": null,
   "metadata": {},
   "outputs": [],
   "source": [
    "df.isin([37, 'Dress', 'Tuesday'])\n",
    "\n",
    "#### Souvent, vous voudrez faire correspondre certaines valeurs à certaines colonnes. Il suffit de créer un dict dont la clé est la colonne et \n",
    "# la valeur est une liste d'éléments que vous souhaitez vérifier."
   ]
  },
  {
   "cell_type": "markdown",
   "metadata": {},
   "source": [
    "**where()** \n",
    "La sélection de valeurs dans une série à l'aide d'un vecteur booléen renvoie généralement un sous-ensemble de données. \n",
    "\n",
    "Pour garantir que le résultat de la sélection a la même forme que les données d'origine, vous pouvez utiliser la méthode **where()** dans Series et DataFrame.\n"
   ]
  },
  {
   "cell_type": "code",
   "execution_count": null,
   "metadata": {},
   "outputs": [],
   "source": [
    "print(df[df['Units Sold'] > 40])\n",
    "\n",
    "### \n",
    "df.where(df['Units Sold'] > 40)[:3]\n",
    "# df.where(df['Units Sold'] > 40, -11)"
   ]
  },
  {
   "cell_type": "markdown",
   "metadata": {},
   "source": [
    "**query()** -> La méthode **query()** permet de filtrer les lignes d'un DataFrame à l'aide de conditions exprimées sous forme de chaînes de caractères. \n",
    "\n",
    "Syntaxe lisible et proche du langage naturel."
   ]
  },
  {
   "cell_type": "code",
   "execution_count": null,
   "metadata": {},
   "outputs": [],
   "source": [
    "## Query Exemples\n",
    "df.query(\"Type == 'Dress'\")\n",
    "\n",
    "df.query(\"`Units Sold` > 30\")\n",
    "\n",
    "df.query(\"Type == 'Dress' and `Units Sold` > 20\")\n",
    "\n",
    "df.query(\"Type in ['Dress', 'Skirt']\")\n",
    "\n",
    "df.query(\"Day != 'Sunday'\")\n",
    "\n",
    "df.query(\"(`Units Sold` > 20 and `Units Sold` < 50) and (Type in ['Dress', 'Skirt', 'Sweater']) and (Day not in ['Sunday', 'Saturday'])\")"
   ]
  },
  {
   "cell_type": "markdown",
   "metadata": {},
   "source": [
    "Exercise : \n",
    "\n",
    "Pour chacune des queries ci-dessus, écrivez l'équivalent de l'indexation booléenne classique ci-dessous.\n",
    "\n",
    "Vérifiez les résultats"
   ]
  },
  {
   "cell_type": "code",
   "execution_count": null,
   "metadata": {},
   "outputs": [],
   "source": []
  },
  {
   "cell_type": "markdown",
   "metadata": {},
   "source": [
    "##### Manipulation\n",
    "\n",
    "Ajout de colonnes - L’ajout d’une colonne dans un DataFrame consiste à introduire une nouvelle variable en définissant ses valeurs pour chaque ligne."
   ]
  },
  {
   "cell_type": "code",
   "execution_count": 31,
   "metadata": {},
   "outputs": [],
   "source": [
    "df['Revenue'] = df['Units Sold'] * 10"
   ]
  },
  {
   "cell_type": "code",
   "execution_count": 32,
   "metadata": {},
   "outputs": [],
   "source": [
    "#### autre méthode qui ne modifie pas directement le DataFrame original\n",
    "# df.assign(Discounted_Price=df['Revenue'] * 0.9)"
   ]
  },
  {
   "cell_type": "markdown",
   "metadata": {},
   "source": [
    "L’ajout d’une ligne permet d’inclure de nouvelles observations.\n",
    "\n"
   ]
  },
  {
   "cell_type": "code",
   "execution_count": null,
   "metadata": {},
   "outputs": [],
   "source": [
    "new_row = pd.DataFrame({'Day': ['Friday'], 'Type': ['Jacket'], 'Units Sold': [450]})\n",
    "df = pd.concat([df, new_row], ignore_index = True)\n",
    "df"
   ]
  },
  {
   "cell_type": "markdown",
   "metadata": {},
   "source": [
    "Autre méthode : Utiliser .loc pour ajouter une ligne "
   ]
  },
  {
   "cell_type": "code",
   "execution_count": 34,
   "metadata": {},
   "outputs": [],
   "source": [
    "df.loc[len(df)] = ['Monday', 'Jeans', 30, 4500]"
   ]
  },
  {
   "cell_type": "code",
   "execution_count": 35,
   "metadata": {},
   "outputs": [],
   "source": [
    "df_extra = pd.DataFrame({'Discount': [5, 10, 0, 20, 15]})\n",
    "df_expanded = pd.concat([df, df_extra], axis=1)"
   ]
  },
  {
   "cell_type": "markdown",
   "metadata": {},
   "source": [
    "Suppression de lignes et de colonnes"
   ]
  },
  {
   "cell_type": "code",
   "execution_count": 36,
   "metadata": {},
   "outputs": [],
   "source": [
    "#### inplace applique directement la modification au tableau original\n",
    "df.drop(columns = ['Revenue'], inplace = True)\n",
    "\n",
    "# df.drop(columns = ['Type'])"
   ]
  },
  {
   "cell_type": "code",
   "execution_count": null,
   "metadata": {},
   "outputs": [],
   "source": [
    "#### Suppression de lignes\n",
    "### Exemple : Supprimer toutes les ventes du dimanche\n",
    "df[df['Day'] != 'Sunday']"
   ]
  },
  {
   "cell_type": "code",
   "execution_count": 38,
   "metadata": {},
   "outputs": [],
   "source": [
    "### Suppression par index\n",
    "# df.drop(index=[0, 2], inplace=True)"
   ]
  },
  {
   "cell_type": "code",
   "execution_count": 39,
   "metadata": {},
   "outputs": [],
   "source": [
    "df['Revenue'] = df['Units Sold'] * 10"
   ]
  },
  {
   "cell_type": "code",
   "execution_count": null,
   "metadata": {},
   "outputs": [],
   "source": [
    "df"
   ]
  },
  {
   "cell_type": "markdown",
   "metadata": {},
   "source": [
    "Exercise\n",
    "\n",
    "1) Créer une colonne \"Profit\" en supposant que le coût de production d'un article est 5 par unité vendue.\n",
    "\n",
    "2) Calculer les ventes totales par jour et les afficher dans un **barplot**."
   ]
  },
  {
   "cell_type": "code",
   "execution_count": null,
   "metadata": {},
   "outputs": [],
   "source": []
  }
 ],
 "metadata": {
  "kernelspec": {
   "display_name": "Python 3",
   "language": "python",
   "name": "python3"
  },
  "language_info": {
   "codemirror_mode": {
    "name": "ipython",
    "version": 3
   },
   "file_extension": ".py",
   "mimetype": "text/x-python",
   "name": "python",
   "nbconvert_exporter": "python",
   "pygments_lexer": "ipython3",
   "version": "3.12.3"
  }
 },
 "nbformat": 4,
 "nbformat_minor": 2
}
